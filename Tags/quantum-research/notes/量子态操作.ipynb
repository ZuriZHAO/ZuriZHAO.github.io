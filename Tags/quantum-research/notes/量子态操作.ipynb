{
 "cells": [
  {
   "cell_type": "code",
   "execution_count": 1,
   "id": "549a2fbb",
   "metadata": {},
   "outputs": [],
   "source": [
    "import torch\n",
    "\n",
    "import quairkit as qkit\n",
    "from quairkit import Hamiltonian, to_state\n",
    "from quairkit.qinfo import *\n",
    "from quairkit.database import *"
   ]
  },
  {
   "cell_type": "markdown",
   "id": "85a52eeb",
   "metadata": {},
   "source": [
    "各向同性态  \n",
    "一种混合态，形式为 $\\rho = \\frac{1 - p}{d^2} I \\otimes I + \\frac{p}{d} \\sum_{i=1}^d |i\\rangle\\langle i| \\otimes |i\\rangle\\langle i|$    \n",
    "prob控制混合程度  \n",
    "prob = 0：退化为最大混合态（$\\rho = \\frac{1}{d^2} I \\otimes I$ ）    \n",
    "prob = 1：退化为纯态（$\\rho = \\frac{1}{d} \\sum |i\\rangle\\langle i| \\otimes |i\\rangle\\langle i|$ ，当 $d=2$ 时是贝尔态的混合形式 ）"
   ]
  },
  {
   "cell_type": "code",
   "execution_count": 2,
   "id": "681527b5",
   "metadata": {},
   "outputs": [
    {
     "name": "stdout",
     "output_type": "stream",
     "text": [
      "zero states with 2 qubits: \n",
      "-----------------------------------------------------\n",
      " Backend: state_vector\n",
      " System dimension: [2, 2]\n",
      " System sequence: [0, 1]\n",
      "[1.+0.j 0.+0.j 0.+0.j 0.+0.j]\n",
      "-----------------------------------------------------\n",
      "\n",
      "Bell states: \n",
      "-----------------------------------------------------\n",
      " Backend: state_vector\n",
      " System dimension: [2, 2]\n",
      " System sequence: [0, 1]\n",
      "[0.71+0.j 0.  +0.j 0.  +0.j 0.71+0.j]\n",
      "-----------------------------------------------------\n",
      "\n",
      "isotropic state: \n",
      "-----------------------------------------------------\n",
      " Backend: density_matrix\n",
      " System dimension: [2, 2]\n",
      " System sequence: [0, 1]\n",
      "[[0.27+0.j 0.  +0.j 0.  +0.j 0.05+0.j]\n",
      " [0.  +0.j 0.22+0.j 0.  +0.j 0.  +0.j]\n",
      " [0.  +0.j 0.  +0.j 0.22+0.j 0.  +0.j]\n",
      " [0.05+0.j 0.  +0.j 0.  +0.j 0.27+0.j]]\n",
      "-----------------------------------------------------\n",
      "\n"
     ]
    }
   ],
   "source": [
    "num_qubits = 2  # set the number of qubits\n",
    "\n",
    "# 制备零态 |00⟩\n",
    "state = zero_state(num_qubits)  \n",
    "print(f\"zero states with 2 qubits: {state}\")\n",
    "\n",
    "# 制备贝尔态 (|00⟩ + |11⟩)/√2\n",
    "state = bell_state(num_qubits)  \n",
    "print(f\"Bell states: {state}\")\n",
    "\n",
    "# 制备各向同性态（isotropic state）\n",
    "state = isotropic_state(num_qubits, prob=0.1)  \n",
    "print(f\"isotropic state: {state}\")"
   ]
  },
  {
   "cell_type": "markdown",
   "id": "f586b7c8",
   "metadata": {},
   "source": [
    "backend表示形式   \n",
    "系统维度  \n",
    "qubit的索引  \n",
    "态数据"
   ]
  },
  {
   "cell_type": "code",
   "execution_count": null,
   "id": "3b8d3ae7",
   "metadata": {},
   "outputs": [],
   "source": [
    "#随机态生成  \n",
    "#rank = 1，纯态，密度矩阵，等价于态矢量\n",
    "#is_real=True：生成 实系数量子态（态矢量或密度矩阵的元素为实数 ）\n",
    "#size批量态\n",
    "state = random_state(num_qubits, rank=1)  \n",
    "state = random_state(num_qubits, is_real=True) \n",
    "state = random_state(num_qubits, size=1000)  "
   ]
  },
  {
   "cell_type": "markdown",
   "id": "0b0b7a34",
   "metadata": {},
   "source": [
    "to_state 用于将 PyTorch Tensor 或 NumPy 数组转换为 State 对象，自动识别输入  \n",
    "输入是一维张量（如 [d] ）或二维张量但某一维为 1（如 [d, 1] ）→ 识别为态矢量。  \n",
    "输入是二维方阵（如 [d, d] ）→ 识别为密度矩阵"
   ]
  },
  {
   "cell_type": "code",
   "execution_count": null,
   "id": "8b8d8257",
   "metadata": {},
   "outputs": [
    {
     "name": "stdout",
     "output_type": "stream",
     "text": [
      "A state vector with 2 qubits following Haar random\n",
      "-----------------------------------------------------\n",
      " Backend: state_vector\n",
      " System dimension: [2]\n",
      " System sequence: [0]\n",
      "[-0.47+0.2j  -0.16+0.85j]\n",
      "-----------------------------------------------------\n",
      "\n",
      "type of the state: density_matrix\n"
     ]
    }
   ],
   "source": [
    "data = haar_state_vector(\n",
    "    num_qubits\n",
    ")  #  生成 Haar 随机态矢量（2 比特）\n",
    "state = to_state(data)\n",
    "print(f\"A state vector with 2 qubits following Haar random{state}\")\n",
    "\n",
    "# 生成随机密度矩阵（2 比特）\n",
    "data = random_density_matrix(num_qubits)  # random 2-qubit density matrix\n",
    "state = to_state(data)\n",
    "print(f\"type of the state: {state.backend}\")"
   ]
  },
  {
   "cell_type": "code",
   "execution_count": 5,
   "id": "34d64388",
   "metadata": {},
   "outputs": [
    {
     "name": "stdout",
     "output_type": "stream",
     "text": [
      "3 random single-qubit pure states: \n",
      "-----------------------------------------------------\n",
      " Backend: state_vector\n",
      " System dimension: [2]\n",
      " System sequence: [0]\n",
      " Batch size: [3]\n",
      "\n",
      " # 0:\n",
      "[-0.66+0.48j -0.02-0.58j]\n",
      " # 1:\n",
      "[-0.33+0.89j -0.15+0.26j]\n",
      " # 2:\n",
      "[-0.53+0.82j  0.12-0.18j]\n",
      "-----------------------------------------------------\n",
      "\n"
     ]
    }
   ],
   "source": [
    "# 1bit的批量纯态\n",
    "state = random_state(num_qubits=1, rank=1, size=3)  # 3 random single-qubit pure states\n",
    "print(f\"3 random single-qubit pure states: {state}\")"
   ]
  },
  {
   "cell_type": "markdown",
   "id": "b7a6b2b8",
   "metadata": {},
   "source": [
    "纯态的密度矩阵是 $\\rho = |\\psi\\rangle\\langle\\psi|$"
   ]
  },
  {
   "cell_type": "code",
   "execution_count": null,
   "id": "0ba216c9",
   "metadata": {},
   "outputs": [
    {
     "name": "stdout",
     "output_type": "stream",
     "text": [
      "Its density matrix is :\n",
      " tensor([[[ 0.6667+0.0000j, -0.2629-0.3913j],\n",
      "         [-0.2629+0.3913j,  0.3333+0.0000j]],\n",
      "\n",
      "        [[ 0.9107+0.0000j,  0.2815-0.0456j],\n",
      "         [ 0.2815+0.0456j,  0.0893+0.0000j]],\n",
      "\n",
      "        [[ 0.9534+0.0000j, -0.2106+0.0071j],\n",
      "         [-0.2106-0.0071j,  0.0466+0.0000j]]])\n",
      "\n",
      "Its ket is :\n",
      " tensor([[[-0.6617+0.4784j],\n",
      "         [-0.0199-0.5770j]],\n",
      "\n",
      "        [[-0.3319+0.8947j],\n",
      "         [-0.1474+0.2599j]],\n",
      "\n",
      "        [[-0.5260+0.8227j],\n",
      "         [ 0.1223-0.1778j]]])\n",
      "\n",
      "Its bra is :\n",
      " tensor([[[-0.6617-0.4784j, -0.0199+0.5770j]],\n",
      "\n",
      "        [[-0.3319-0.8947j, -0.1474-0.2599j]],\n",
      "\n",
      "        [[-0.5260-0.8227j,  0.1223+0.1778j]]])\n"
     ]
    }
   ],
   "source": [
    "\n",
    "print(\"Its density matrix is :\\n\", state.density_matrix)\n",
    "#ket右矢∣ψ⟩\n",
    "print(\"\\nIts ket is :\\n\", state.ket)\n",
    "#左矢⟨ψ∣\n",
    "print(\"\\nIts bra is :\\n\", state.bra)"
   ]
  },
  {
   "cell_type": "markdown",
   "id": "478e109c",
   "metadata": {},
   "source": [
    "↓将 State 对象的内部数据（态矢量或密度矩阵 ）转换为 NumPy ndarray 类型"
   ]
  },
  {
   "cell_type": "code",
   "execution_count": 7,
   "id": "bd13f9b9",
   "metadata": {},
   "outputs": [
    {
     "name": "stdout",
     "output_type": "stream",
     "text": [
      "\n",
      "The state is :\n",
      " [[-0.6616574 +0.4784363j  -0.01994713-0.5769838j ]\n",
      " [-0.33193117+0.89473677j -0.14735043+0.2599147j ]\n",
      " [-0.52599597+0.8226604j   0.12226242-0.17779209j]]\n"
     ]
    }
   ],
   "source": [
    "print(\"\\nThe state is :\\n\", state.numpy())"
   ]
  },
  {
   "cell_type": "code",
   "execution_count": null,
   "id": "e6202725",
   "metadata": {},
   "outputs": [
    {
     "name": "stdout",
     "output_type": "stream",
     "text": [
      "The trace of these states are tensor([1.0000+0.j, 1.0000+0.j, 1.0000+0.j])\n",
      "The rank of these states are 1\n",
      "The size of these states are 2\n",
      "The shape of vectorization of these states are torch.Size([3, 4, 1])\n"
     ]
    }
   ],
   "source": [
    "print(\"The trace of these states are\", state.trace())\n",
    "print(\"The rank of these states are\", state.rank)\n",
    "print(\"The size of these states are\", state.dim)\n",
    "print(\"The shape of vectorization of these states are\", state.vec.shape)\n",
    "#.vec.shape\n",
    "# 将密度矩阵按列展开为矢量后的形状\n",
    "# （用于某些数学变换，如 Choi 表示 ）"
   ]
  },
  {
   "cell_type": "code",
   "execution_count": 11,
   "id": "407ac7e2",
   "metadata": {},
   "outputs": [
    {
     "name": "stdout",
     "output_type": "stream",
     "text": [
      "The number of systems in these states are 1\n",
      "Are these states qubits? True\n",
      "Are these states qutrits? False\n"
     ]
    }
   ],
   "source": [
    "# 量子系统的个数（如 1 比特系统是 1 个 ）\n",
    "print(\"The number of systems in these states are\", state.num_systems)\n",
    "#判断是否为qubits\n",
    "print(\"Are these states qubits?\", state.are_qubits())\n",
    "print(\"Are these states qutrits?\", state.are_qutrits())"
   ]
  },
  {
   "cell_type": "markdown",
   "id": "0ce7c270",
   "metadata": {},
   "source": [
    "↓直接索引，提取批量态中的第 i 个态"
   ]
  },
  {
   "cell_type": "code",
   "execution_count": 12,
   "id": "5cc438df",
   "metadata": {},
   "outputs": [
    {
     "name": "stdout",
     "output_type": "stream",
     "text": [
      "the second and third state in the batch: \n",
      "-----------------------------------------------------\n",
      " Backend: state_vector\n",
      " System dimension: [2]\n",
      " System sequence: [0]\n",
      " Batch size: [2]\n",
      "\n",
      " # 0:\n",
      "[-0.33+0.89j -0.15+0.26j]\n",
      " # 1:\n",
      "[-0.53+0.82j  0.12-0.18j]\n",
      "-----------------------------------------------------\n",
      "\n"
     ]
    }
   ],
   "source": [
    "print(f\"the second and third state in the batch: {state[1:]}\")"
   ]
  },
  {
   "cell_type": "markdown",
   "id": "ce1ad74b",
   "metadata": {},
   "source": [
    "### 量子态操作"
   ]
  },
  {
   "cell_type": "markdown",
   "id": "4cc4e558",
   "metadata": {},
   "source": [
    "内积是密度矩阵乘积的迹，对应纯态的 $\\langle\\psi|\\phi\\rangle$（因 state_1 是零态 $|0\\rangle\\langle0|$，state_2 是随机纯态 $|\\phi\\rangle\\langle\\phi|$，乘积的迹为 $\\langle0|\\phi\\rangle\\langle\\phi|0\\rangle = |\\langle0|\\phi\\rangle|^2$ ）"
   ]
  },
  {
   "cell_type": "code",
   "execution_count": null,
   "id": "eda62c41",
   "metadata": {},
   "outputs": [
    {
     "name": "stdout",
     "output_type": "stream",
     "text": [
      "matrix multiplication:\n",
      "tensor([[ 0.4490+0.0000j, -0.2443+0.3630j],\n",
      "        [ 0.0000+0.0000j,  0.0000+0.0000j]])\n",
      "The overlap of state_1 and state_2 is : tensor(0.4490+0.j)\n"
     ]
    }
   ],
   "source": [
    "## 生成 1 比特零态的密度矩阵\n",
    "state_1 = zero_state(num_qubits=1).density_matrix\n",
    "# 生成随机密度矩阵并转换为 State 对象\n",
    "data = random_density_matrix(num_qubits=1)\n",
    "state_2 = to_state(data).density_matrix\n",
    "#矩阵乘法\n",
    "print(f\"matrix multiplication:\\n{state_1 @ state_2}\")\n",
    "#计算内积\n",
    "\n",
    "print(\"The overlap of state_1 and state_2 is :\", trace(state_1 @ state_2))"
   ]
  },
  {
   "cell_type": "code",
   "execution_count": 14,
   "id": "8dae3a9f",
   "metadata": {},
   "outputs": [
    {
     "name": "stdout",
     "output_type": "stream",
     "text": [
      "tensor product:\n",
      "tensor([[ 0.4490+0.0000j, -0.2443+0.3630j,  0.0000+0.0000j, -0.0000+0.0000j],\n",
      "        [-0.2443-0.3630j,  0.5510+0.0000j,  0.0000-0.0000j,  0.0000+0.0000j],\n",
      "        [ 0.0000+0.0000j, -0.0000+0.0000j,  0.0000+0.0000j, -0.0000+0.0000j],\n",
      "        [ 0.0000-0.0000j,  0.0000+0.0000j,  0.0000-0.0000j,  0.0000+0.0000j]])\n"
     ]
    }
   ],
   "source": [
    "#张量积\n",
    "product_state = NKron(state_1, state_2)\n",
    "print(f\"tensor product:\\n{product_state}\")"
   ]
  },
  {
   "cell_type": "markdown",
   "id": "c0eb10ff",
   "metadata": {},
   "source": [
    "系统置换  \n",
    "修改 system_seq 置换量子态的子系统（如交换 2 比特系统的两个 qubit ）"
   ]
  },
  {
   "cell_type": "code",
   "execution_count": 15,
   "id": "3c3f4e43",
   "metadata": {},
   "outputs": [
    {
     "name": "stdout",
     "output_type": "stream",
     "text": [
      "1 random 2-qubit pure states: \n",
      "-----------------------------------------------------\n",
      " Backend: state_vector\n",
      " System dimension: [2, 2]\n",
      " System sequence: [0, 1]\n",
      "[0.53+0.02j 0.46+0.42j 0.04-0.16j 0.27+0.49j]\n",
      "-----------------------------------------------------\n",
      "\n",
      "state after permutation: \n",
      "-----------------------------------------------------\n",
      " Backend: state_vector\n",
      " System dimension: [2, 2]\n",
      " System sequence: [1, 0]\n",
      "[0.53+0.02j 0.04-0.16j 0.46+0.42j 0.27+0.49j]\n",
      "-----------------------------------------------------\n",
      "\n"
     ]
    }
   ],
   "source": [
    "#生成2bit纯态  \n",
    "state = random_state(num_qubits=2, rank=1, size=1)  # random 2-qubit pure states\n",
    "print(f\"1 random 2-qubit pure states: {state}\")\n",
    "\n",
    "#交换两个qubit\n",
    "state.system_seq = [1, 0]  # permutation\n",
    "print(f\"state after permutation: {state}\")"
   ]
  },
  {
   "cell_type": "code",
   "execution_count": null,
   "id": "f177dc8a",
   "metadata": {},
   "outputs": [
    {
     "name": "stdout",
     "output_type": "stream",
     "text": [
      "The dtype of these states are torch.complex64\n",
      "The device of these states are cpu\n",
      "The dtype of new states are torch.complex128\n",
      "The device of new states are cpu\n"
     ]
    }
   ],
   "source": [
    "## 查看当前态的数据类型和设备\n",
    "print(\"The dtype of these states are\", state.dtype)\n",
    "print(\"The device of these states are\", state.device)\n",
    "\n",
    "## 克隆态并修改数据类型和设备\n",
    "#clone()：深拷贝量子态，避免原态被修改\n",
    "#\n",
    "new_state = state.clone().to(\n",
    "    dtype=torch.complex128, \n",
    "    device=\"cpu\"\n",
    ")  # change to \"cuda\" if gpu is available\n",
    "print(\"The dtype of new states are\", new_state.dtype)\n",
    "print(\"The device of new states are\", new_state.device)"
   ]
  },
  {
   "cell_type": "markdown",
   "id": "6deb3493",
   "metadata": {},
   "source": [
    "与环境相互作用"
   ]
  },
  {
   "cell_type": "code",
   "execution_count": 17,
   "id": "88d34fd3",
   "metadata": {},
   "outputs": [
    {
     "name": "stdout",
     "output_type": "stream",
     "text": [
      "state after evolving with unitary: \n",
      "-----------------------------------------------------\n",
      " Backend: state_vector\n",
      " System dimension: [2, 2]\n",
      " System sequence: [1, 0]\n",
      "[-0.48+0.49j -0.13+0.39j -0.41+0.12j -0.29-0.28j]\n",
      "-----------------------------------------------------\n",
      "\n"
     ]
    }
   ],
   "source": [
    "#幺正演化\n",
    "#量子态可通过幺正操作演化，模拟无噪声环境下的时间演化\n",
    "\n",
    "## 生成 1 比特幺正操作\n",
    "unitary = random_unitary(num_qubits=1)\n",
    "#将幺正操作作用于指定子系统\n",
    "state_evo = state.evolve(unitary, sys_idx=[1])\n",
    "print(f\"state after evolving with unitary: {state_evo}\")"
   ]
  },
  {
   "cell_type": "markdown",
   "id": "28375df0",
   "metadata": {},
   "source": [
    "量子态可通过量子信道演化，模拟有噪声环境下的退相干  "
   ]
  },
  {
   "cell_type": "markdown",
   "id": "10160e9a",
   "metadata": {},
   "source": [
    "纯态的自动转换：纯态通过噪声信道后会变为混合态，ket 和 bra 属性丢失（因混合态无法用单一态矢量表示 ）"
   ]
  },
  {
   "cell_type": "code",
   "execution_count": 19,
   "id": "2291cc2f",
   "metadata": {},
   "outputs": [
    {
     "name": "stdout",
     "output_type": "stream",
     "text": [
      "state after transformation: \n",
      "-----------------------------------------------------\n",
      " Backend: state_vector\n",
      " System dimension: [2, 2]\n",
      " System sequence: [0, 1]\n",
      "[0.53+0.02j 0.46+0.42j 0.04-0.16j 0.27+0.49j]\n",
      "-----------------------------------------------------\n",
      "\n"
     ]
    }
   ],
   "source": [
    "# 生成 1 比特随机量子信道（Kraus 表示）\n",
    "kraus = random_channel(num_qubits=1)\n",
    "# 应用量子信道（作用于 sys_idx=[0]，Kraus 表示）\n",
    "state_kra = state.transform(kraus, sys_idx=[0], repr_type=\"kraus\")\n",
    "print(f\"state after transformation: {state}\")"
   ]
  },
  {
   "cell_type": "code",
   "execution_count": null,
   "id": "a5b03415",
   "metadata": {},
   "outputs": [
    {
     "name": "stdout",
     "output_type": "stream",
     "text": [
      "state after transformation: \n",
      "-----------------------------------------------------\n",
      " Backend: state_vector\n",
      " System dimension: [2, 2]\n",
      " System sequence: [0, 1]\n",
      "[0.53+0.02j 0.46+0.42j 0.04-0.16j 0.27+0.49j]\n",
      "-----------------------------------------------------\n",
      "\n"
     ]
    }
   ],
   "source": [
    "#量子信道choi表示作用，同上\n",
    "choi = random_channel(num_qubits=1, target=\"choi\")\n",
    "state_cho = state.transform(choi, sys_idx=[1], repr_type=\"choi\")\n",
    "print(f\"state after transformation: {state}\")"
   ]
  },
  {
   "cell_type": "markdown",
   "id": "f2f05d9a",
   "metadata": {},
   "source": [
    "“可观测量（observable）” 指的是能对量子系统进行测量、并得到确定实验结果的物理量（比如自旋、能量、位置等 ）。    \n",
    "可观测量对应一个厄米算子（Hermitian Operator） 。对量子态进行测量，本质上就是计算这个算子在该量子态下的 “期望值”（ expectation value ）。  \n",
    "Pauli Z 算子（常简称 Z 算子 ）是单量子比特系统里最基础的可观测量之一，它作用于量子比特的计算基 $|0\\rangle$、$|1\\rangle$ 时，有明确的操作：$Z|0\\rangle = |0\\rangle, \\quad Z|1\\rangle = -|1\\rangle$你可以把它理解成 “测量量子比特在 Z 方向的自旋”，测量结果只能是 $+1$（对应 $|0\\rangle$ ）或 $-1$（对应 $|1\\rangle$ ）  \n"
   ]
  },
  {
   "cell_type": "markdown",
   "id": "69523a04",
   "metadata": {},
   "source": [
    "Hamiltonian 是一个用来 描述 “哈密顿量” 或者 “可观测量集合” 的工具类（虽然名字叫 Hamiltonian，但也常用于构造一般的可观测量 ）  \n",
    "Hamiltonian([(2, \"Z0\")]):   \n",
    "构造一个可观测量，它的 “作用维度” 是 2（对应单 qubit 的 2 维希尔伯特空间 ）    \n",
    "这个可观测量具体是 “对第 1 个 qubit 施加 Pauli Z 算子”（即 Z0 ）    \n",
    "后续就可以用 state.expec_val(hamiltonian=observable) 去计算 量子态在这个可观测量下的期望值，也就是测量结果的统计平均值  \n"
   ]
  },
  {
   "cell_type": "markdown",
   "id": "d43cb52f",
   "metadata": {},
   "source": [
    "↓可观测量：用 Hamiltonian 构造（如 Pauli Z 算子 Z0 作用于第 1 个 qubit ）  \n",
    "期望值：量子态 $\\rho$ 在可观测量 O 下的期望值为 $\\text{tr}(\\rho O)$，描述测量结果的统计平均  "
   ]
  },
  {
   "cell_type": "code",
   "execution_count": null,
   "id": "9755b933",
   "metadata": {},
   "outputs": [
    {
     "name": "stdout",
     "output_type": "stream",
     "text": [
      "the expectation value under the given observable:  tensor(0.6562)\n"
     ]
    }
   ],
   "source": [
    "# 构造可观测量（Pauli Z 算子作用于第 1 个 qubit）\n",
    "observable = Hamiltonian([(2, \"Z0\")])\n",
    "\n",
    "# 计算量子态在该可观测量下的期望值\n",
    "print(\n",
    "    \"the expectation value under the given observable: \",\n",
    "    state.expec_val(hamiltonian=observable),\n",
    ")"
   ]
  },
  {
   "cell_type": "code",
   "execution_count": null,
   "id": "9ed4dc1e",
   "metadata": {},
   "outputs": [
    {
     "name": "stdout",
     "output_type": "stream",
     "text": [
      "Theoretical value is : tensor([0.2787, 0.3854, 0.0276, 0.3084])\n"
     ]
    }
   ],
   "source": [
    "# 在 {|0> |1>} 基下测量量子态，返回各基矢的测量概率\n",
    "print(\"Theoretical value is :\", state.measure())  "
   ]
  }
 ],
 "metadata": {
  "kernelspec": {
   "display_name": "quair",
   "language": "python",
   "name": "python3"
  },
  "language_info": {
   "codemirror_mode": {
    "name": "ipython",
    "version": 3
   },
   "file_extension": ".py",
   "mimetype": "text/x-python",
   "name": "python",
   "nbconvert_exporter": "python",
   "pygments_lexer": "ipython3",
   "version": "3.10.18"
  }
 },
 "nbformat": 4,
 "nbformat_minor": 5
}
