{
 "cells": [
  {
   "cell_type": "code",
   "execution_count": 1,
   "id": "3dc7e849",
   "metadata": {},
   "outputs": [],
   "source": [
    "import torch\n",
    "\n",
    "import quairkit as qkit\n",
    "from quairkit import *\n",
    "from quairkit.database.matrix import *\n",
    "from quairkit.database.random import *\n",
    "from quairkit.database.representation import *\n",
    "from quairkit.qinfo import *"
   ]
  },
  {
   "cell_type": "markdown",
   "id": "c4164e91",
   "metadata": {},
   "source": [
    "设置量子计算模拟的复数精度（默认 complex64 ，需要更高精度时用 complex128 ）"
   ]
  },
  {
   "cell_type": "code",
   "execution_count": null,
   "id": "fef3965a",
   "metadata": {},
   "outputs": [
    {
     "name": "stdout",
     "output_type": "stream",
     "text": [
      "dtype:  torch.complex128\n"
     ]
    }
   ],
   "source": [
    "qkit.set_dtype(\"complex128\")\n",
    "#\n",
    "print(\"dtype: \",qkit.get_dtype())"
   ]
  },
  {
   "cell_type": "markdown",
   "id": "583514ee",
   "metadata": {},
   "source": [
    "量子门的核心性质满足unitarity  \n",
    "UU†=U†U=I  \n",
    "单比特门∣ψ⟩=α∣0⟩+β∣1⟩满足归一化$α^2+β^2=1$  \n",
    "泡利矩阵是最基础的单比特门"
   ]
  },
  {
   "cell_type": "code",
   "execution_count": 3,
   "id": "9d6be9b2",
   "metadata": {},
   "outputs": [
    {
     "name": "stdout",
     "output_type": "stream",
     "text": [
      "The matrix form of Pauli X gate is\n",
      " tensor([[0, 1],\n",
      "        [1, 0]]) \n",
      "\n",
      "The matrix form of Pauli Y gate is\n",
      " tensor([[0.+0.j, -0.-1.j],\n",
      "        [0.+1.j, 0.+0.j]]) \n",
      "\n",
      "The matrix form of Pauli Z gate is\n",
      " tensor([[ 1,  0],\n",
      "        [ 0, -1]])\n"
     ]
    }
   ],
   "source": [
    "X = torch.tensor([[0, 1], [1, 0]])  # Pauli X matrix\n",
    "Y = torch.tensor([[0, -1j], [1j, 0]])  # Pauli Y matrix\n",
    "Z = torch.tensor([[1, 0], [0, -1]])  # Pauli Z matrix\n",
    "\n",
    "print(\"The matrix form of Pauli X gate is\\n\", X, \"\\n\")\n",
    "print(\"The matrix form of Pauli Y gate is\\n\", Y, \"\\n\")\n",
    "print(\"The matrix form of Pauli Z gate is\\n\", Z)"
   ]
  },
  {
   "cell_type": "markdown",
   "id": "ddc2838f",
   "metadata": {},
   "source": [
    "哈达玛门(H 门)：将计算基（$|0\\rangle,|1\\rangle$ ）转换为叠加态基（$|+\\rangle,|-\\rangle$ ），是产生量子叠加的核心门。  \n",
    "相位门(S门)：对 $|1\\rangle$ 态添加 i（$90^\\circ$ ）的相位，不改变 $|0\\rangle$ 态。   \n",
    "T门（$\\phi$门）：对 $|1\\rangle$ 态添加 $e^{i\\pi/4}$（ $45^\\circ$ ）的相位，是构建高精度量子门的基础。"
   ]
  },
  {
   "cell_type": "code",
   "execution_count": 7,
   "id": "6e07d5e6",
   "metadata": {},
   "outputs": [
    {
     "name": "stdout",
     "output_type": "stream",
     "text": [
      "The matrix form of Hadamard gate is\n",
      " tensor([[ 0.7071,  0.7071],\n",
      "        [ 0.7071, -0.7071]])\n",
      "\n",
      "The matrix form of Phase gate is\n",
      " tensor([[1.+0.j, 0.+0.j],\n",
      "        [0.+0.j, 0.+1.j]])\n",
      "\n",
      "The matrix form of T gate is\n",
      " tensor([[1.0000+0.0000j, 0.0000+0.0000j],\n",
      "        [0.0000+0.0000j, 0.7071+0.7071j]])\n"
     ]
    }
   ],
   "source": [
    "#手动构造相应的门\n",
    "sqrt_2 = torch.sqrt(torch.tensor(2))  # sqrt 2\n",
    "isq2 = 1 / sqrt_2  # 1 / sqrt 2\n",
    "# pi = torch.acos(torch.zeros(1)).item() * 2 # pi\n",
    "\n",
    "\n",
    "H = isq2 * torch.tensor([[1, 1], [1, -1]])  # Hadamard gate\n",
    "S = torch.tensor([[1, 0], [0, 1j]])  # Phase gate\n",
    "T = torch.tensor([[1, 0], [0, torch.exp(torch.tensor(1j * torch.pi / 4))]])  # T gate\n",
    "\n",
    "print(\"The matrix form of Hadamard gate is\\n\", H)\n",
    "print(\"\\nThe matrix form of Phase gate is\\n\", S)\n",
    "print(\"\\nThe matrix form of T gate is\\n\", T)"
   ]
  },
  {
   "cell_type": "markdown",
   "id": "dc99db28",
   "metadata": {},
   "source": [
    "↓ 内置哈达玛门，参数 0 表示作用于第 0 个 qubit（单比特门只需指定 qubit 索引）"
   ]
  },
  {
   "cell_type": "code",
   "execution_count": 5,
   "id": "f834146b",
   "metadata": {},
   "outputs": [
    {
     "name": "stdout",
     "output_type": "stream",
     "text": [
      "The matrix form of built in Hadamard gate is\n",
      " tensor([[ 0.7071+0.j,  0.7071+0.j],\n",
      "        [ 0.7071+0.j, -0.7071+0.j]])\n"
     ]
    }
   ],
   "source": [
    "\n",
    "H_qkit = h()  # built-in Hadamard gate\n",
    "\n",
    "print(\"The matrix form of built in Hadamard gate is\\n\", H_qkit)"
   ]
  },
  {
   "cell_type": "markdown",
   "id": "8caed613",
   "metadata": {},
   "source": [
    "用 QuAIRKit 构造和使用单量子比特旋转门    \n",
    "让量子比特绕对应轴旋转 $\\theta$ 角度（量子态的 “旋转” 是量子计算中调控相位、叠加态的核心操作 ）  \n"
   ]
  },
  {
   "cell_type": "code",
   "execution_count": null,
   "id": "25057667",
   "metadata": {},
   "outputs": [
    {
     "name": "stdout",
     "output_type": "stream",
     "text": [
      "The matrix form of x-axis rotation gate with parameter 5.466 is\n",
      "tensor([[-0.9177+0.0000j,  0.0000-0.3973j],\n",
      "        [ 0.0000-0.3973j, -0.9177+0.0000j]])\n",
      "\n",
      "The matrix form of y-axis rotation gate with parameter 5.466 is\n",
      "tensor([[-0.9177+0.j, -0.3973+0.j],\n",
      "        [ 0.3973+0.j, -0.9177+0.j]])\n",
      "\n",
      "The matrix form of z-axis rotation gate with parameter 5.466 is\n",
      "tensor([[-0.9177-0.3973j,  0.0000+0.0000j],\n",
      "        [ 0.0000+0.0000j, -0.9177+0.3973j]])\n"
     ]
    }
   ],
   "source": [
    "#生成旋转门的角度\n",
    "theta = torch.round(2*torch.pi*torch.rand(1), decimals=3) # the parameter of Pauli rotation operators\n",
    "\n",
    "#构造相应旋转门\n",
    "Rx = rx(theta) # x-axis rotation gate\n",
    "Ry = ry(theta) # y-axis rotation gate\n",
    "Rz = rz(theta) # z-axis rotation gate\n",
    "\n",
    "print(f'The matrix form of x-axis rotation gate with parameter {theta[0].numpy()} is\\n{Rx}')\n",
    "print(f'\\nThe matrix form of y-axis rotation gate with parameter {theta[0].numpy()} is\\n{Ry}')\n",
    "print(f'\\nThe matrix form of z-axis rotation gate with parameter {theta[0].numpy()} is\\n{Rz}')"
   ]
  },
  {
   "cell_type": "markdown",
   "id": "71591eb0",
   "metadata": {},
   "source": [
    "三类核心双比特门（CNOT、CZ、SWAP ）  \n",
    "量子计算的 “通用性” 依赖于 单量子比特门 + 至少一种双量子比特门。双比特门能创造量子纠缠（多比特关联），是实现复杂量子算法的基础。"
   ]
  },
  {
   "cell_type": "markdown",
   "id": "74cbcf66",
   "metadata": {},
   "source": [
    "CNOT 门   \n",
    "若控制比特是 $|1\\rangle$ → 翻转目标比特（$|0\\rangle \\leftrightarrow |1\\rangle$ ）  \n",
    "若控制比特是 $|0\\rangle$ → 目标比特不变  "
   ]
  },
  {
   "cell_type": "markdown",
   "id": "d70d3e8e",
   "metadata": {},
   "source": [
    "CZ门  \n",
    "控制比特是 $|1\\rangle$ 时，对目标比特添加 相位翻转（$|1\\rangle \\to -|1\\rangle$ ，$|0\\rangle$ 不变 ）。"
   ]
  },
  {
   "cell_type": "markdown",
   "id": "e548d290",
   "metadata": {},
   "source": [
    "SWAP门  \n",
    "交换两个量子比特的状态（如把 $|ab\\rangle$ 转成 $|ba\\rangle$ ）"
   ]
  },
  {
   "cell_type": "code",
   "execution_count": 8,
   "id": "d8d4e6ac",
   "metadata": {},
   "outputs": [
    {
     "name": "stdout",
     "output_type": "stream",
     "text": [
      "The matrix form of controlled-NOT gate is\n",
      " tensor([[1.+0.j, 0.+0.j, 0.+0.j, 0.+0.j],\n",
      "        [0.+0.j, 1.+0.j, 0.+0.j, 0.+0.j],\n",
      "        [0.+0.j, 0.+0.j, 0.+0.j, 1.+0.j],\n",
      "        [0.+0.j, 0.+0.j, 1.+0.j, 0.+0.j]]) \n",
      "\n",
      "The matrix form of controlled-Z gate is\n",
      " tensor([[ 1.+0.j,  0.+0.j,  0.+0.j,  0.+0.j],\n",
      "        [ 0.+0.j,  1.+0.j,  0.+0.j,  0.+0.j],\n",
      "        [ 0.+0.j,  0.+0.j,  1.+0.j,  0.+0.j],\n",
      "        [ 0.+0.j,  0.+0.j,  0.+0.j, -1.+0.j]]) \n",
      "\n",
      "The matrix form of swap gate is\n",
      " tensor([[1.+0.j, 0.+0.j, 0.+0.j, 0.+0.j],\n",
      "        [0.+0.j, 0.+0.j, 1.+0.j, 0.+0.j],\n",
      "        [0.+0.j, 1.+0.j, 0.+0.j, 0.+0.j],\n",
      "        [0.+0.j, 0.+0.j, 0.+0.j, 1.+0.j]])\n"
     ]
    }
   ],
   "source": [
    "CNOT = cnot()  # controlled-NOT gate\n",
    "CZ = cz()  # controlled-Z gate\n",
    "SWAP = swap()  # swap gate\n",
    "\n",
    "print(\"The matrix form of controlled-NOT gate is\\n\", CNOT, \"\\n\")\n",
    "print(\"The matrix form of controlled-Z gate is\\n\", CZ, \"\\n\")\n",
    "print(\"The matrix form of swap gate is\\n\", SWAP)"
   ]
  },
  {
   "cell_type": "markdown",
   "id": "17425c6d",
   "metadata": {},
   "source": [
    "量子门作用于量子态  \n",
    "对于纯态，量子门（左乘）的作用是保证量子态的归一化不变    \n",
    "对于混合态（密度矩阵ρ），量子门$σ=U ρ U^†$\n"
   ]
  },
  {
   "cell_type": "code",
   "execution_count": 9,
   "id": "8ba085dd",
   "metadata": {},
   "outputs": [
    {
     "name": "stdout",
     "output_type": "stream",
     "text": [
      "pure output state after applying a unitary:\n",
      " tensor([[0.2583-0.7239j],\n",
      "        [0.4740-0.4296j]])\n",
      "\n",
      "mixed output state after applying a unitary:\n",
      " tensor([[ 0.1423-1.7347e-18j, -0.1056-6.5318e-02j],\n",
      "        [-0.1056+6.5318e-02j,  0.8577+4.8572e-17j]])\n"
     ]
    }
   ],
   "source": [
    "## 生成纯态（rank=1）、混合态（rank=2）、幺正门\n",
    "pure_state = random_state(num_qubits=1, rank=1) \n",
    "mixed_state = random_state(num_qubits=1, rank=2) \n",
    "unitary = random_unitary(num_qubits=1) \n",
    "\n",
    "# 用 evolve 让门作用于态\n",
    "pure_state_evo = pure_state.evolve(unitary)\n",
    "mixed_state_evo = mixed_state.evolve(unitary)\n",
    "#结果 纯态用 ket 表示，混合态用密度矩阵表示\n",
    "print(f\"pure output state after applying a unitary:\\n {pure_state_evo.ket}\\n\")\n",
    "print(f\"mixed output state after applying a unitary:\\n {mixed_state_evo.density_matrix}\")"
   ]
  },
  {
   "cell_type": "markdown",
   "id": "c8817e06",
   "metadata": {},
   "source": [
    "单比特门作用于多量子比特态时，指定作用于哪个 qubit  \n",
    "框架会将 U 与单位矩阵 I（另一个 qubit 不操作）做张量积,保证维度    "
   ]
  },
  {
   "cell_type": "code",
   "execution_count": 10,
   "id": "1aa92820",
   "metadata": {},
   "outputs": [
    {
     "name": "stdout",
     "output_type": "stream",
     "text": [
      "state after applying a unitary on the first qubit:\n",
      " tensor([[ 0.6083-9.5178e-18j, -0.0370+1.0392e-03j, -0.4426-1.7530e-01j,\n",
      "          0.0895-4.7400e-02j],\n",
      "        [-0.0370-1.0392e-03j,  0.0023+8.8642e-20j,  0.0266+1.1417e-02j,\n",
      "         -0.0055+2.7298e-03j],\n",
      "        [-0.4426+1.7530e-01j,  0.0266-1.1417e-02j,  0.3726+3.7480e-18j,\n",
      "         -0.0515+6.0293e-02j],\n",
      "        [ 0.0895+4.7400e-02j, -0.0055-2.7298e-03j, -0.0515-6.0293e-02j,\n",
      "          0.0169+1.2180e-19j]])\n"
     ]
    }
   ],
   "source": [
    "\n",
    "state = random_state(num_qubits=2)\n",
    "unitary = random_unitary(num_qubits=1)\n",
    "\n",
    "# 指定门作用于第 0 号 qubit\n",
    "state_evo = state.evolve(unitary, sys_idx=[0])\n",
    "print(f\"state after applying a unitary on the first qubit:\\n {state_evo.density_matrix}\")"
   ]
  },
  {
   "cell_type": "markdown",
   "id": "7a3168b8",
   "metadata": {},
   "source": [
    "批量态 + 批量门"
   ]
  },
  {
   "cell_type": "code",
   "execution_count": null,
   "id": "edbb6ee8",
   "metadata": {},
   "outputs": [
    {
     "name": "stdout",
     "output_type": "stream",
     "text": [
      "batched states after applying a unitary:\n",
      " \n",
      "-----------------------------------------------------\n",
      " Backend: state_vector\n",
      " System dimension: [2]\n",
      " System sequence: [0]\n",
      " Batch size: [5]\n",
      "\n",
      " # 0:\n",
      "[-0.1 +0.71j -0.16-0.68j]\n",
      " # 1:\n",
      "[-0.73-0.17j -0.65-0.1j ]\n",
      " # 2:\n",
      "[0.43+0.39j 0.78+0.26j]\n",
      " # 3:\n",
      "[ 0.39+0.18j -0.54+0.73j]\n",
      " # 4:\n",
      "[-0.7 -0.33j  0.44+0.45j]\n",
      "-----------------------------------------------------\n",
      "\n"
     ]
    }
   ],
   "source": [
    "#五个单量子比特态+一个门\n",
    "state = random_state(num_qubits=1, size=5) \n",
    "unitary = random_unitary(num_qubits=1)\n",
    "state_evo = state.evolve(unitary)\n",
    "# 等价循环\n",
    "# batch_size = 5\n",
    "# state_list = []\n",
    "# unitary = random_unitary(num_qubits=1)\n",
    "# for i in range(batch_size):\n",
    "#     state_temp = random_state(num_qubits=1)\n",
    "#     state_evo_temp = state_temp.evolve(unitary)\n",
    "#     state_list.append(state_evo_temp.density_matrix)\n",
    "# state_evo = to_state(torch.stack(state_list, dim=0))\n",
    "\n",
    "print(f\"batched states after applying a unitary:\\n {state_evo}\")\n",
    "#输出 5 个单比特态应用 unitary 后的密度矩阵，\n",
    "# 每个态对应一组结果"
   ]
  },
  {
   "cell_type": "markdown",
   "id": "2c113dad",
   "metadata": {},
   "source": [
    "单个量子态 + 批量量子门  \n",
    "原理同上"
   ]
  },
  {
   "cell_type": "code",
   "execution_count": 12,
   "id": "0e414ecb",
   "metadata": {},
   "outputs": [
    {
     "name": "stdout",
     "output_type": "stream",
     "text": [
      "state after applying batched unitaries:\n",
      " \n",
      "-----------------------------------------------------\n",
      " Backend: density_matrix\n",
      " System dimension: [2]\n",
      " System sequence: [0]\n",
      " Batch size: [5]\n",
      "\n",
      " # 0:\n",
      "[[0.53-0.j   0.11+0.44j]\n",
      " [0.11-0.44j 0.47+0.j  ]]\n",
      " # 1:\n",
      "[[ 0.92+0.j   -0.09+0.14j]\n",
      " [-0.09-0.14j  0.08+0.j  ]]\n",
      " # 2:\n",
      "[[ 0.68+0.j   -0.42-0.01j]\n",
      " [-0.42+0.01j  0.32-0.j  ]]\n",
      " # 3:\n",
      "[[0.75+0.j   0.19-0.33j]\n",
      " [0.19+0.33j 0.25+0.j  ]]\n",
      " # 4:\n",
      "[[0.45+0.j   0.42+0.18j]\n",
      " [0.42-0.18j 0.55-0.j  ]]\n",
      "-----------------------------------------------------\n",
      "\n"
     ]
    }
   ],
   "source": [
    "\n",
    "state = random_state(num_qubits=1)\n",
    "unitary = random_unitary(num_qubits=1, size=5) # 5 random single-qubit unitaries (batched unitaries)\n",
    "state_evo = state.evolve(unitary)\n",
    "# this is equivalent to below code\n",
    "# batch_size = 5\n",
    "# state_list = []\n",
    "# state = random_state(num_qubits=1)\n",
    "# for i in range(batch_size):\n",
    "#     unitary_temp = random_unitary(num_qubits=1)\n",
    "#     state_evo_temp = state.evolve(unitary_temp)\n",
    "#     state_list.append(state_evo_temp.density_matrix)\n",
    "# state_evo = to_state(torch.stack(state_list, dim=0))\n",
    "\n",
    "print(f\"state after applying batched unitaries:\\n {state_evo}\")"
   ]
  },
  {
   "cell_type": "markdown",
   "id": "58a1429f",
   "metadata": {},
   "source": [
    "构建并可视化一个 2 比特量子电路（Quantum Circuit）"
   ]
  },
  {
   "cell_type": "code",
   "execution_count": null,
   "id": "026419c2",
   "metadata": {},
   "outputs": [
    {
     "name": "stdout",
     "output_type": "stream",
     "text": [
      "the diagram of the quantum circuit:\n"
     ]
    },
    {
     "data": {
      "image/png": "[encoded data removed]",
      "text/plain": [
       "<IPython.core.display.Image object>"
      ]
     },
     "metadata": {},
     "output_type": "display_data"
    }
   ],
   "source": [
    "num_qubits = 2  \n",
    "\n",
    "cir = Circuit(num_qubits)  \n",
    "cir.h(0)  # Add Hadamard gate to qubit 0\n",
    "cir.x([0, 1])  # Add X gate to qubit 0 and 1\n",
    "cir.cx([0, 1])  # Add CNOT gate to qubit 0 and 1\n",
    "\n",
    "print(\"the diagram of the quantum circuit:\")\n",
    "cir.plot()"
   ]
  },
  {
   "cell_type": "markdown",
   "id": "74b29bd8",
   "metadata": {},
   "source": [
    "将量子电路作用于一个量子态并获取电路执行后的输出态"
   ]
  },
  {
   "cell_type": "code",
   "execution_count": 14,
   "id": "3494f6f9",
   "metadata": {},
   "outputs": [
    {
     "name": "stdout",
     "output_type": "stream",
     "text": [
      "output state after applying a quantum circuit:\n",
      " \n",
      "-----------------------------------------------------\n",
      " Backend: density_matrix\n",
      " System dimension: [2, 2]\n",
      " System sequence: [0, 1]\n",
      "[[ 0.37+0.j   -0.28+0.13j -0.1 +0.j   -0.09-0.04j]\n",
      " [-0.28-0.13j  0.42+0.j    0.03+0.09j  0.16-0.03j]\n",
      " [-0.1 -0.j    0.03-0.09j  0.06+0.j   -0.04+0.j  ]\n",
      " [-0.09+0.04j  0.16+0.03j -0.04-0.j    0.14+0.j  ]]\n",
      "-----------------------------------------------------\n",
      "\n"
     ]
    }
   ],
   "source": [
    "state = random_state(num_qubits=2)\n",
    "output_state = cir(state)  # run the circuit on a state\n",
    "\n",
    "print(f\"output state after applying a quantum circuit:\\n {output_state}\")"
   ]
  },
  {
   "cell_type": "markdown",
   "id": "fce79f12",
   "metadata": {},
   "source": [
    "多个初始量子态（批量态）通过同一个量子电路，并高效获取所有输出态  \n",
    "并行，更高效  "
   ]
  },
  {
   "cell_type": "code",
   "execution_count": 16,
   "id": "4a742400",
   "metadata": {},
   "outputs": [
    {
     "name": "stdout",
     "output_type": "stream",
     "text": [
      "output batched states after applying a quantum circuit:\n",
      " \n",
      "-----------------------------------------------------\n",
      " Backend: density_matrix\n",
      " System dimension: [2, 2]\n",
      " System sequence: [0, 1]\n",
      " Batch size: [5]\n",
      "\n",
      " # 0:\n",
      "[[ 0.14+0.j   -0.13+0.11j -0.03-0.05j -0.08+0.11j]\n",
      " [-0.13-0.11j  0.49+0.j   -0.18+0.07j  0.22-0.1j ]\n",
      " [-0.03+0.05j -0.18-0.07j  0.19+0.j   -0.04+0.02j]\n",
      " [-0.08-0.11j  0.22+0.1j  -0.04-0.02j  0.18+0.j  ]]\n",
      " # 1:\n",
      "[[ 0.24+0.j   -0.  +0.14j  0.07+0.04j  0.08-0.17j]\n",
      " [-0.  -0.14j  0.32+0.j    0.09+0.07j -0.07-0.17j]\n",
      " [ 0.07-0.04j  0.09-0.07j  0.16+0.j   -0.04-0.17j]\n",
      " [ 0.08+0.17j -0.07+0.17j -0.04+0.17j  0.28+0.j  ]]\n",
      " # 2:\n",
      "[[ 0.32+0.j    0.09-0.11j -0.16-0.04j -0.02-0.09j]\n",
      " [ 0.09+0.11j  0.18+0.j   -0.13-0.13j -0.02-0.04j]\n",
      " [-0.16+0.04j -0.13+0.13j  0.42+0.j    0.01-0.05j]\n",
      " [-0.02+0.09j -0.02+0.04j  0.01+0.05j  0.08+0.j  ]]\n",
      " # 3:\n",
      "[[ 0.41+0.j   -0.02-0.07j -0.03+0.06j -0.08+0.03j]\n",
      " [-0.02+0.07j  0.11+0.j    0.01+0.02j -0.02-0.01j]\n",
      " [-0.03-0.06j  0.01-0.02j  0.46+0.j    0.05+0.02j]\n",
      " [-0.08-0.03j -0.02+0.01j  0.05-0.02j  0.03+0.j  ]]\n",
      " # 4:\n",
      "[[ 0.4 +0.j   -0.06-0.15j -0.14+0.07j -0.16+0.j  ]\n",
      " [-0.06+0.15j  0.17+0.j    0.07-0.02j  0.04-0.07j]\n",
      " [-0.14-0.07j  0.07+0.02j  0.22+0.j   -0.03-0.04j]\n",
      " [-0.16-0.j    0.04+0.07j -0.03+0.04j  0.21+0.j  ]]\n",
      "-----------------------------------------------------\n",
      "\n"
     ]
    }
   ],
   "source": [
    "#生成 5 个独立的 2 比特量子态\n",
    "state = random_state(num_qubits=2, size=5)  \n",
    "#让批量态通过同一个电路\n",
    "output_state = cir(state)  \n",
    "# 等价循环\n",
    "# batch_size = 5\n",
    "# state_list = []\n",
    "# for i in range(batch_size):\n",
    "#     state = random_state(num_qubits=2)\n",
    "#     output_state_temp = cir(state)\n",
    "#     state_list.append(output_state_temp.density_matrix)\n",
    "#     print(output_state_temp)\n",
    "# output_states = to_state(torch.stack(state_list, dim=0))\n",
    "\n",
    "print(f\"output batched states after applying a quantum circuit:\\n {output_state}\")"
   ]
  },
  {
   "cell_type": "markdown",
   "id": "39dc8ae5",
   "metadata": {},
   "source": [
    "### 量子信道"
   ]
  },
  {
   "cell_type": "markdown",
   "id": "12fd7fc8",
   "metadata": {},
   "source": [
    "三种数学表示（Kraus、Choi、Stinespring）"
   ]
  },
  {
   "cell_type": "code",
   "execution_count": 18,
   "id": "f1624569",
   "metadata": {},
   "outputs": [
    {
     "name": "stdout",
     "output_type": "stream",
     "text": [
      "Kraus representation of a quantum channel:\n",
      " tensor([[[ 0.4670+0.8585j, -0.1506-0.1231j],\n",
      "         [-0.0284+0.0917j,  0.1205+0.1535j]],\n",
      "\n",
      "        [[ 0.0153+0.0589j, -0.0346+0.1020j],\n",
      "         [ 0.0466-0.1725j, -0.0909-0.9509j]]])\n",
      "\n",
      "Choi representation of the same quantum channel:\n",
      " tensor([[ 0.9588+0.0000j,  0.0560-0.0618j, -0.1705-0.0754j,  0.1307+0.0410j],\n",
      "        [ 0.0560+0.0618j,  0.0412+0.0000j, -0.0262-0.0161j,  0.1705+0.0754j],\n",
      "        [-0.1705+0.0754j, -0.0262+0.0161j,  0.0494+0.0000j, -0.1309-0.0339j],\n",
      "        [ 0.1307-0.0410j,  0.1705-0.0754j, -0.1309+0.0339j,  0.9506+0.0000j]])\n",
      "\n",
      "Stinespring representation of the same quantum channel:\n",
      " tensor([[ 0.4670+0.8585j, -0.1506-0.1231j],\n",
      "        [ 0.0153+0.0589j, -0.0346+0.1020j],\n",
      "        [-0.0284+0.0917j,  0.1205+0.1535j],\n",
      "        [ 0.0466-0.1725j, -0.0909-0.9509j]])\n",
      "\n"
     ]
    }
   ],
   "source": [
    "# 生成一个单比特量子信道的 Kraus 表示\n",
    "kraus_repr = random_channel(num_qubits=1, target=\"kraus\")\n",
    "\n",
    "# Kraus 表示 → Choi 表示\n",
    "# 原理通过最大纠缠态构造 Choi 态\n",
    "choi_repr = channel_repr_convert(kraus_repr, source=\"kraus\", target=\"choi\")\n",
    "\n",
    "#  Kraus 表示 → Stinespring 表示\n",
    "# 原理通过 Kraus 算子构造等距变换 V\n",
    "stin_repr = channel_repr_convert(kraus_repr, source=\"kraus\", target=\"stinespring\")\n",
    "\n",
    "\n",
    "print(f\"Kraus representation of a quantum channel:\\n {kraus_repr}\\n\")\n",
    "print(f\"Choi representation of the same quantum channel:\\n {choi_repr}\\n\")\n",
    "print(f\"Stinespring representation of the same quantum channel:\\n {stin_repr}\\n\")"
   ]
  },
  {
   "cell_type": "markdown",
   "id": "bd316f99",
   "metadata": {},
   "source": [
    "比特翻转信道（Bit flip channel）"
   ]
  },
  {
   "cell_type": "markdown",
   "id": "be3b8d2b",
   "metadata": {},
   "source": [
    "以概率 $1-p$ 翻转量子比特的态（$|0\\rangle \\leftrightarrow |1\\rangle$ ），以概率 p 保持态不变。"
   ]
  },
  {
   "cell_type": "code",
   "execution_count": null,
   "id": "50fd62f6",
   "metadata": {},
   "outputs": [
    {
     "name": "stdout",
     "output_type": "stream",
     "text": [
      "Kraus representation of a bit flip channel with probability 0.5:\n",
      " tensor([[[0.7071+0.j, 0.0000+0.j],\n",
      "         [0.0000+0.j, 0.7071+0.j]],\n",
      "\n",
      "        [[0.0000+0.j, 0.7071+0.j],\n",
      "         [0.7071+0.j, 0.0000+0.j]]])\n",
      "\n",
      "Choi representation of a bit flip channel with probability 0.5:\n",
      " tensor([[0.5000+0.j, 0.0000+0.j, 0.0000+0.j, 0.5000+0.j],\n",
      "        [0.0000+0.j, 0.5000+0.j, 0.5000+0.j, 0.0000+0.j],\n",
      "        [0.0000+0.j, 0.5000+0.j, 0.5000+0.j, 0.0000+0.j],\n",
      "        [0.5000+0.j, 0.0000+0.j, 0.0000+0.j, 0.5000+0.j]])\n",
      "\n",
      "Stinespring representation of a bit flip channel with probability 0.5:\n",
      " tensor([[0.7071+0.j, 0.0000+0.j],\n",
      "        [0.0000+0.j, 0.7071+0.j],\n",
      "        [0.0000+0.j, 0.7071+0.j],\n",
      "        [0.7071+0.j, 0.0000+0.j]])\n"
     ]
    }
   ],
   "source": [
    "probs = 0.5 # probability\n",
    "bit_flip_kraus_repr = bit_flip_kraus(probs) \n",
    "# Kraus → Choi、Stinespring 转换\n",
    "bit_flip_choi_repr = channel_repr_convert(bit_flip_kraus_repr, source=\"kraus\", target=\"choi\") # Choi representation\n",
    "bit_flip_stin_repr = channel_repr_convert(bit_flip_kraus_repr, source=\"kraus\", target=\"stinespring\") # Stinespring representation\n",
    "\n",
    "print(f\"Kraus representation of a bit flip channel with probability {probs}:\\n {bit_flip_kraus_repr}\\n\")\n",
    "print(f\"Choi representation of a bit flip channel with probability {probs}:\\n {bit_flip_choi_repr}\\n\")\n",
    "print(f\"Stinespring representation of a bit flip channel with probability {probs}:\\n {bit_flip_stin_repr}\")"
   ]
  },
  {
   "cell_type": "markdown",
   "id": "7be3b2b5",
   "metadata": {},
   "source": [
    "Phase flip channel相位翻转信道  \n",
    "以概率 $1-p$ 翻转量子比特的相位符号（$|0\\rangle$ 不变，$|1\\rangle \\to -|1\\rangle$ ）  \n",
    "以概率 p 保持量子比特不变  "
   ]
  },
  {
   "cell_type": "code",
   "execution_count": 20,
   "id": "2e1d0376",
   "metadata": {},
   "outputs": [
    {
     "name": "stdout",
     "output_type": "stream",
     "text": [
      "Kraus representation of a phase flip channel with probability 0.5:\n",
      " tensor([[[ 0.7071+0.j,  0.0000+0.j],\n",
      "         [ 0.0000+0.j,  0.7071+0.j]],\n",
      "\n",
      "        [[ 0.7071+0.j,  0.0000+0.j],\n",
      "         [ 0.0000+0.j, -0.7071+0.j]]])\n",
      "\n",
      "Choi representation of a phase flip channel with probability 0.5:\n",
      " tensor([[1.0000+0.j, 0.0000+0.j, 0.0000+0.j, 0.0000+0.j],\n",
      "        [0.0000+0.j, 0.0000+0.j, 0.0000+0.j, 0.0000+0.j],\n",
      "        [0.0000+0.j, 0.0000+0.j, 0.0000+0.j, 0.0000+0.j],\n",
      "        [0.0000+0.j, 0.0000+0.j, 0.0000+0.j, 1.0000+0.j]])\n",
      "\n",
      "Stinespring representation of a phase flip channel with probability 0.5:\n",
      " tensor([[ 0.7071+0.j,  0.0000+0.j],\n",
      "        [ 0.7071+0.j,  0.0000+0.j],\n",
      "        [ 0.0000+0.j,  0.7071+0.j],\n",
      "        [ 0.0000+0.j, -0.7071+0.j]])\n"
     ]
    }
   ],
   "source": [
    "probs = 0.5 # probability\n",
    "phase_flip_kraus_repr = phase_flip_kraus(probs) # Kraus representation\n",
    "phase_flip_choi_repr = channel_repr_convert(phase_flip_kraus_repr, source=\"kraus\", target=\"choi\") # Choi representation\n",
    "phase_flip_stin_repr = channel_repr_convert(phase_flip_kraus_repr, source=\"kraus\", target=\"stinespring\") # Stinespring representation\n",
    "\n",
    "print(f\"Kraus representation of a phase flip channel with probability {probs}:\\n {phase_flip_kraus_repr}\\n\")\n",
    "print(f\"Choi representation of a phase flip channel with probability {probs}:\\n {phase_flip_choi_repr}\\n\")\n",
    "print(f\"Stinespring representation of a phase flip channel with probability {probs}:\\n {phase_flip_stin_repr}\")"
   ]
  },
  {
   "cell_type": "markdown",
   "id": "da8dfc06",
   "metadata": {},
   "source": [
    "Bit-phase flip channel 比特 - 相位翻转信道    \n",
    "比特翻转（Bit flip）+ 相位翻转（Phase flip） 的组合噪声模型    \n",
    "以概率 $1-p$ 同时翻转量子比特的态（|0⟩↔|1⟩）和相位（|1⟩→-|1⟩）  \n",
    "以概率 p 保持量子比特不变  \n",
    "其 Kraus 算子 利用 Pauli-Y 门（$Y = iXZ$ ）定义"
   ]
  },
  {
   "cell_type": "code",
   "execution_count": 21,
   "id": "3f1dd2c3",
   "metadata": {},
   "outputs": [
    {
     "name": "stdout",
     "output_type": "stream",
     "text": [
      "Kraus representation of a bit-phase flip channel with probability 0.5:\n",
      " tensor([[[0.7071+0.0000j, 0.0000+0.0000j],\n",
      "         [0.0000+0.0000j, 0.7071+0.0000j]],\n",
      "\n",
      "        [[0.0000+0.0000j, 0.0000-0.7071j],\n",
      "         [0.0000+0.7071j, 0.0000+0.0000j]]])\n",
      "\n",
      "Choi representation of a bit-phase flip channel with probability 0.5:\n",
      " tensor([[ 0.5000+0.j,  0.0000+0.j,  0.0000+0.j,  0.5000+0.j],\n",
      "        [ 0.0000+0.j,  0.5000+0.j, -0.5000+0.j,  0.0000+0.j],\n",
      "        [ 0.0000+0.j, -0.5000+0.j,  0.5000+0.j,  0.0000+0.j],\n",
      "        [ 0.5000+0.j,  0.0000+0.j,  0.0000+0.j,  0.5000+0.j]])\n",
      "\n",
      "Stinespring representation of a bit-phase flip channel with probability 0.5:\n",
      " tensor([[0.7071+0.0000j, 0.0000+0.0000j],\n",
      "        [0.0000+0.0000j, 0.0000-0.7071j],\n",
      "        [0.0000+0.0000j, 0.7071+0.0000j],\n",
      "        [0.0000+0.7071j, 0.0000+0.0000j]])\n"
     ]
    }
   ],
   "source": [
    "probs = 0.5 # probability\n",
    "bit_phase_flip_kraus_repr = bit_phase_flip_kraus(probs) # Kraus representation\n",
    "bit_phase_flip_choi_repr = channel_repr_convert(bit_phase_flip_kraus_repr, source=\"kraus\", target=\"choi\") # Choi representation\n",
    "bit_phase_flip_stin_repr = channel_repr_convert(bit_phase_flip_kraus_repr, source=\"kraus\", target=\"stinespring\") # Stinespring representation\n",
    "\n",
    "print(f\"Kraus representation of a bit-phase flip channel with probability {probs}:\\n {bit_phase_flip_kraus_repr}\\n\")\n",
    "print(f\"Choi representation of a bit-phase flip channel with probability {probs}:\\n {bit_phase_flip_choi_repr}\\n\")\n",
    "print(f\"Stinespring representation of a bit-phase flip channel with probability {probs}:\\n {bit_phase_flip_stin_repr}\")"
   ]
  },
  {
   "cell_type": "markdown",
   "id": "a708aafc",
   "metadata": {},
   "source": [
    "Depolarizing channel 退极化信道  \n",
    "以概率 $p$ 让量子比特退化为 完全混合态（$I/2$，最大程度丢失信息 ）  \n",
    "以概率 $1-p$ 让量子比特保持不变  \n",
    "$ε(ρ)= (pI)/2+(1−p)ρ$  \n",
    "退极化信道的 Kraus 算子 有 4 个（因单比特信道的 Kraus 算子最多 4 个 ）：$\\{ \\sqrt{1 - 3p/4}I,\\ \\sqrt{p/4}X,\\ \\sqrt{p/4}Y,\\ \\sqrt{p/4}Z \\}$"
   ]
  },
  {
   "cell_type": "code",
   "execution_count": null,
   "id": "4da96ee3",
   "metadata": {},
   "outputs": [
    {
     "name": "stdout",
     "output_type": "stream",
     "text": [
      "Kraus representation of a depolarizing channel with probability 0.5:\n",
      " tensor([[[ 0.7906+0.0000j,  0.0000+0.0000j],\n",
      "         [ 0.0000+0.0000j,  0.7906+0.0000j]],\n",
      "\n",
      "        [[ 0.0000+0.0000j,  0.3536+0.0000j],\n",
      "         [ 0.3536+0.0000j,  0.0000+0.0000j]],\n",
      "\n",
      "        [[ 0.0000+0.0000j,  0.0000-0.3536j],\n",
      "         [ 0.0000+0.3536j,  0.0000+0.0000j]],\n",
      "\n",
      "        [[ 0.3536+0.0000j,  0.0000+0.0000j],\n",
      "         [ 0.0000+0.0000j, -0.3536+0.0000j]]])\n",
      "\n",
      "Choi representation of a depolarizing channel with probability 0.5:\n",
      " tensor([[0.7500+0.j, 0.0000+0.j, 0.0000+0.j, 0.5000+0.j],\n",
      "        [0.0000+0.j, 0.2500+0.j, 0.0000+0.j, 0.0000+0.j],\n",
      "        [0.0000+0.j, 0.0000+0.j, 0.2500+0.j, 0.0000+0.j],\n",
      "        [0.5000+0.j, 0.0000+0.j, 0.0000+0.j, 0.7500+0.j]])\n",
      "\n",
      "Stinespring representation of a depolarizing channel with probability 0.5:\n",
      " tensor([[ 0.7906+0.0000j,  0.0000+0.0000j],\n",
      "        [ 0.0000+0.0000j,  0.3536+0.0000j],\n",
      "        [ 0.0000+0.0000j,  0.0000-0.3536j],\n",
      "        [ 0.3536+0.0000j,  0.0000+0.0000j],\n",
      "        [ 0.0000+0.0000j,  0.7906+0.0000j],\n",
      "        [ 0.3536+0.0000j,  0.0000+0.0000j],\n",
      "        [ 0.0000+0.3536j,  0.0000+0.0000j],\n",
      "        [ 0.0000+0.0000j, -0.3536+0.0000j]])\n"
     ]
    }
   ],
   "source": [
    "probs = 0.5 # probability\n",
    "depolarizing_kraus_repr = depolarizing_kraus(probs) \n",
    "# ↑输出是 4 个 2×2 复矩阵（对应 4 个 Kraus 算子 ）\n",
    "depolarizing_choi_repr = channel_repr_convert(depolarizing_kraus_repr, source=\"kraus\", target=\"choi\") # Choi representation\n",
    "depolarizing_stin_repr = channel_repr_convert(depolarizing_kraus_repr, source=\"kraus\", target=\"stinespring\") # Stinespring representation\n",
    "\n",
    "print(f\"Kraus representation of a depolarizing channel with probability {probs}:\\n {depolarizing_kraus_repr}\\n\")\n",
    "print(f\"Choi representation of a depolarizing channel with probability {probs}:\\n {depolarizing_choi_repr}\\n\")\n",
    "print(f\"Stinespring representation of a depolarizing channel with probability {probs}:\\n {depolarizing_stin_repr}\")"
   ]
  },
  {
   "cell_type": "markdown",
   "id": "a11fc229",
   "metadata": {},
   "source": [
    "Amplitude damping channel振幅阻尼信道    \n",
    "量子开放系统中最典型的噪声模型之一    \n",
    "模拟量子比特的 “能量衰减”（如量子比特从激发态 $|1\\rangle$ 弛豫到基态 $|0\\rangle$ ，振幅逐渐衰减 ）  \n",
    "$K_0=∣0⟩⟨0∣+\\sqrt{1−γ} ∣1⟩⟨1∣,K_1 = \\sqrt{γ}∣0⟩⟨1∣$  \n",
    "γ是衰减参数  \n",
    " \n",
    "\n",
    "$\\newline\n",
    "\\newline$\n",
    "模拟量子比特与环境的相互作用（如超导 qubit 弛豫到基态、光子在光纤中丢失 ）。  \n",
    "输入态 $|1\\rangle$ 的振幅会以概率 $\\gamma$ 衰减为 $|0\\rangle$ ，导致量子相干性丢失。"
   ]
  },
  {
   "cell_type": "code",
   "execution_count": 24,
   "id": "39778a0c",
   "metadata": {},
   "outputs": [
    {
     "name": "stdout",
     "output_type": "stream",
     "text": [
      "Kraus representation of a amplitude damping channel with parameter 0.5:\n",
      " tensor([[[1.0000+0.j, 0.0000+0.j],\n",
      "         [0.0000+0.j, 0.7071+0.j]],\n",
      "\n",
      "        [[0.0000+0.j, 0.7071+0.j],\n",
      "         [0.0000+0.j, 0.0000+0.j]]])\n",
      "\n",
      "Choi representation of a amplitude damping channel with parameter 0.5:\n",
      " tensor([[1.0000+0.j, 0.0000+0.j, 0.0000+0.j, 0.7071+0.j],\n",
      "        [0.0000+0.j, 0.0000+0.j, 0.0000+0.j, 0.0000+0.j],\n",
      "        [0.0000+0.j, 0.0000+0.j, 0.5000+0.j, 0.0000+0.j],\n",
      "        [0.7071+0.j, 0.0000+0.j, 0.0000+0.j, 0.5000+0.j]])\n",
      "\n",
      "Stinespring representation of a amplitude damping channel with parameter 0.5:\n",
      " tensor([[1.0000+0.j, 0.0000+0.j],\n",
      "        [0.0000+0.j, 0.7071+0.j],\n",
      "        [0.0000+0.j, 0.7071+0.j],\n",
      "        [0.0000+0.j, 0.0000+0.j]])\n"
     ]
    }
   ],
   "source": [
    "gamma = 0.5 #衰减参数\n",
    "amplitude_damping_kraus_repr = amplitude_damping_kraus(gamma) # Kraus representation\n",
    "amplitude_damping_choi_repr = channel_repr_convert(amplitude_damping_kraus_repr, source=\"kraus\", target=\"choi\") # Choi representation\n",
    "amplitude_damping_stin_repr = channel_repr_convert(amplitude_damping_kraus_repr, source=\"kraus\", target=\"stinespring\") # Stinespring representation\n",
    "\n",
    "print(f\"Kraus representation of a amplitude damping channel with parameter {gamma}:\\n {amplitude_damping_kraus_repr}\\n\")\n",
    "print(f\"Choi representation of a amplitude damping channel with parameter {gamma}:\\n {amplitude_damping_choi_repr}\\n\")\n",
    "print(f\"Stinespring representation of a amplitude damping channel with parameter {gamma}:\\n {amplitude_damping_stin_repr}\")"
   ]
  },
  {
   "cell_type": "markdown",
   "id": "671c4a48",
   "metadata": {},
   "source": [
    "量子信道作用于量子态"
   ]
  },
  {
   "cell_type": "code",
   "execution_count": 25,
   "id": "21197359",
   "metadata": {},
   "outputs": [
    {
     "name": "stdout",
     "output_type": "stream",
     "text": [
      "state after applying a quantum channel in Kraus representation:\n",
      " tensor([[0.3960-6.9389e-18j, 0.1722+1.6675e-01j],\n",
      "        [0.1722-1.6675e-01j, 0.6040+0.0000e+00j]])\n",
      "\n",
      "state after applying a quantum channel in Choi representation:\n",
      " tensor([[0.3960+0.0000j, 0.1722+0.1668j],\n",
      "        [0.1722-0.1668j, 0.6040+0.0000j]])\n"
     ]
    }
   ],
   "source": [
    "state = random_state(num_qubits=1)\n",
    "#↑↑将量子信道（Kraus 或 Choi 表示）作用于 State 对象，\n",
    "# 得到演化后的量子态。\n",
    "kraus_repr = random_channel(num_qubits=1, target=\"kraus\") # random single-qubit quantum channel (Kraus representation)\n",
    "choi_repr = channel_repr_convert(kraus_repr, source=\"kraus\", target=\"choi\") # Choi representation\n",
    "\n",
    "state_kraus = state.transform(kraus_repr, repr_type=\"kraus\")\n",
    "state_choi = state.transform(choi_repr, repr_type=\"choi\")\n",
    "\n",
    "print(f\"state after applying a quantum channel in Kraus representation:\\n {state_kraus.density_matrix}\\n\")\n",
    "print(f\"state after applying a quantum channel in Choi representation:\\n {state_choi.density_matrix}\")"
   ]
  },
  {
   "cell_type": "markdown",
   "id": "8b17911d",
   "metadata": {},
   "source": [
    "↓单比特态 + 单比特信道"
   ]
  },
  {
   "cell_type": "code",
   "execution_count": 26,
   "id": "f415add5",
   "metadata": {},
   "outputs": [
    {
     "name": "stdout",
     "output_type": "stream",
     "text": [
      "state after applying a quantum channel on the first qubit:\n",
      " tensor([[ 0.2576-1.3878e-17j, -0.0169+1.4430e-01j,  0.2270-1.0859e-01j,\n",
      "         -0.0381+1.8022e-01j],\n",
      "        [-0.0169-1.4430e-01j,  0.1243-8.6736e-19j, -0.1346-1.1855e-01j,\n",
      "          0.1242-6.9828e-02j],\n",
      "        [ 0.2270+1.0859e-01j, -0.1346+1.1855e-01j,  0.3275-4.3368e-18j,\n",
      "         -0.1411+2.5225e-01j],\n",
      "        [-0.0381-1.8022e-01j,  0.1242+6.9828e-02j, -0.1411-2.5225e-01j,\n",
      "          0.2906-3.4694e-18j]])\n"
     ]
    }
   ],
   "source": [
    "state = random_state(num_qubits=2)\n",
    "kraus_repr = random_channel(num_qubits=1, target=\"kraus\")\n",
    "\n",
    "state_trans = state.transform(kraus_repr, sys_idx=[0])\n",
    "print(f\"state after applying a quantum channel on the first qubit:\\n {state_trans.density_matrix}\")"
   ]
  },
  {
   "cell_type": "markdown",
   "id": "b9487f9e",
   "metadata": {},
   "source": [
    "批量量子态通过量子信道的并行演化"
   ]
  },
  {
   "cell_type": "code",
   "execution_count": 27,
   "id": "4f7930ed",
   "metadata": {},
   "outputs": [
    {
     "name": "stdout",
     "output_type": "stream",
     "text": [
      "batched states after applying a quantum channel:\n",
      " \n",
      "-----------------------------------------------------\n",
      " Backend: density_matrix\n",
      " System dimension: [2]\n",
      " System sequence: [0]\n",
      " Batch size: [5]\n",
      "\n",
      " # 0:\n",
      "[[0.53-0.j   0.11+0.44j]\n",
      " [0.11-0.44j 0.47+0.j  ]]\n",
      " # 1:\n",
      "[[ 0.92+0.j   -0.09+0.14j]\n",
      " [-0.09-0.14j  0.08+0.j  ]]\n",
      " # 2:\n",
      "[[ 0.68+0.j   -0.42-0.01j]\n",
      " [-0.42+0.01j  0.32-0.j  ]]\n",
      " # 3:\n",
      "[[0.75+0.j   0.19-0.33j]\n",
      " [0.19+0.33j 0.25+0.j  ]]\n",
      " # 4:\n",
      "[[0.45+0.j   0.42+0.18j]\n",
      " [0.42-0.18j 0.55-0.j  ]]\n",
      "-----------------------------------------------------\n",
      "\n"
     ]
    }
   ],
   "source": [
    "state = random_state(num_qubits=1, size=5) \n",
    "#生成 5 个 1 比特随机态（批量态）\n",
    "kraus_repr = random_channel(num_qubits=1, target=\"kraus\")\n",
    "#让批量态通过同一个量子信道\n",
    "state_trans = state.transform(kraus_repr, repr_type=\"kraus\")\n",
    "# this is equivalent to below code\n",
    "# batch_size = 5\n",
    "# state_list = []\n",
    "# kraus_repr = random_channel(num_qubits=1, target=\"kraus\")\n",
    "# for i in range(batch_size):\n",
    "#     state_temp = random_state(num_qubits=1)\n",
    "#     state_trans_temp = state_temp.transform(kraus_repr, repr_type=\"kraus\")\n",
    "#     state_list.append(state_trans_temp.density_matrix)\n",
    "# state_trans = to_state(torch.stack(state_list, dim=0))\n",
    "\n",
    "print(f\"batched states after applying a quantum channel:\\n {state_evo}\")"
   ]
  }
 ],
 "metadata": {
  "kernelspec": {
   "display_name": "quair",
   "language": "python",
   "name": "python3"
  },
  "language_info": {
   "codemirror_mode": {
    "name": "ipython",
    "version": 3
   },
   "file_extension": ".py",
   "mimetype": "text/x-python",
   "name": "python",
   "nbconvert_exporter": "python",
   "pygments_lexer": "ipython3",
   "version": "3.10.18"
  }
 },
 "nbformat": 4,
 "nbformat_minor": 5
}
