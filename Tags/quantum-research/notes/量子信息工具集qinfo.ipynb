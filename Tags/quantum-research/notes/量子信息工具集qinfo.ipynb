{
 "cells": [
  {
   "cell_type": "code",
   "execution_count": 1,
   "id": "bde013d1",
   "metadata": {},
   "outputs": [],
   "source": [
    "import quairkit as qkit\n",
    "from quairkit import to_state\n",
    "from quairkit.database import *\n",
    "from quairkit.qinfo import *\n",
    "\n",
    "qkit.set_dtype(\"complex128\")"
   ]
  },
  {
   "cell_type": "code",
   "execution_count": null,
   "id": "0f3b90a6",
   "metadata": {},
   "outputs": [
    {
     "name": "stdout",
     "output_type": "stream",
     "text": [
      "Matrix A is:\n",
      "tensor([[-0.3532+0.5739j, -0.6183-0.4046j],\n",
      "        [ 0.3256+0.6633j,  0.6129-0.2800j]])\n",
      "\n",
      "Matrix B is:\n",
      "tensor([[-0.6200+0.5384j, -0.3405+0.4580j],\n",
      "        [-0.1587-0.5482j,  0.3924+0.7213j]])\n"
     ]
    }
   ],
   "source": [
    "#生成U矩阵\n",
    "A = random_unitary(num_qubits=1)\n",
    "B = random_unitary(num_qubits=1)\n",
    "print(f\"Matrix A is:\\n{A}\\n\")\n",
    "print(f\"Matrix B is:\\n{B}\")"
   ]
  },
  {
   "cell_type": "markdown",
   "id": "92591b72",
   "metadata": {},
   "source": [
    "输出trace，直和（直接加），克罗内克积（NKron即张量积），共轭转置，分解单比特幺正矩阵（decomp_1qubit）    \n",
    "decomp_1qubit(U):将单比特幺正矩阵 U 分解为 Z-Y-Z 旋转角（量子门的标准分解方式 ）：$U = R_z(\\gamma) R_y(\\beta) R_z(\\alpha)$    \n",
    "输出三个旋转角 $(\\alpha, \\beta, \\gamma)$，便于分析门的物理意义（如绕 Bloch 球的旋转 ）  "
   ]
  },
  {
   "cell_type": "code",
   "execution_count": 3,
   "id": "af4ad819",
   "metadata": {},
   "outputs": [
    {
     "name": "stdout",
     "output_type": "stream",
     "text": [
      "The trace of matrix A is (0.2597170816027793+0.2938433805173188j)\n",
      "The direct sum of matrix A and B is: \n",
      "tensor([[-0.3532+0.5739j, -0.6183-0.4046j,  0.0000+0.0000j,  0.0000+0.0000j],\n",
      "        [ 0.3256+0.6633j,  0.6129-0.2800j,  0.0000+0.0000j,  0.0000+0.0000j],\n",
      "        [ 0.0000+0.0000j,  0.0000+0.0000j, -0.6200+0.5384j, -0.3405+0.4580j],\n",
      "        [ 0.0000+0.0000j,  0.0000+0.0000j, -0.1587-0.5482j,  0.3924+0.7213j]])\n",
      "\n",
      "The tensor product of matrix A and B is: \n",
      "tensor([[-0.0900-0.5460j, -0.1426-0.3572j,  0.6011-0.0820j,  0.3958-0.1454j],\n",
      "        [ 0.3706+0.1026j, -0.5526-0.0296j, -0.1237+0.4031j,  0.0492-0.6047j],\n",
      "        [-0.5589-0.2360j, -0.4146-0.0767j, -0.2293+0.5036j, -0.0804+0.3761j],\n",
      "        [ 0.3120-0.2837j, -0.3507+0.4951j, -0.2508-0.2916j,  0.4425+0.3322j]])\n",
      "\n",
      "The conjugate transpose of matrix A is: \n",
      "tensor([[-0.3532-0.5739j,  0.3256-0.6633j],\n",
      "        [-0.6183+0.4046j,  0.6129+0.2800j]])\n",
      "\n",
      "The decomposition of single-qubit unitary operator A to Z-Y-Z rotation angles is (tensor(-1.0080), tensor(1.6628), tensor(-1.5431))\n"
     ]
    }
   ],
   "source": [
    "print(f\"The trace of matrix A is {trace(A)}\")\n",
    "\n",
    "print(f\"The direct sum of matrix A and B is: \\n{direct_sum(A,B)}\\n\")\n",
    "\n",
    "print(f\"The tensor product of matrix A and B is: \\n{NKron(A,B)}\\n\")\n",
    "\n",
    "print(f\"The conjugate transpose of matrix A is: \\n{dagger(A)}\\n\")\n",
    "\n",
    "print(f\"The decomposition of single-qubit unitary operator A to Z-Y-Z rotation angles is {decomp_1qubit(A)}\")"
   ]
  },
  {
   "cell_type": "markdown",
   "id": "3d30be11",
   "metadata": {},
   "source": [
    "$\\rho = |\\psi\\rangle\\langle\\psi|$ ，其中$|\\psi\\rangle$就是态矢量，也叫ket矢量"
   ]
  },
  {
   "cell_type": "code",
   "execution_count": null,
   "id": "06400c55",
   "metadata": {},
   "outputs": [
    {
     "name": "stdout",
     "output_type": "stream",
     "text": [
      "The first quantum state is:\n",
      " tensor([[ 0.0304+0.0000j,  0.0478+0.0518j,  0.0386+0.0041j,  0.0279-0.1071j],\n",
      "        [ 0.0478-0.0518j,  0.2400+0.0000j, -0.0462-0.0551j, -0.2272-0.1990j],\n",
      "        [ 0.0386-0.0041j, -0.0462+0.0551j,  0.2199+0.0000j,  0.1542-0.1607j],\n",
      "        [ 0.0279+0.1071j, -0.2272+0.1990j,  0.1542+0.1607j,  0.5097+0.0000j]])\n",
      "\n",
      "The second quantum state is:\n",
      " tensor([[ 0.4511-0.6282j],\n",
      "        [-0.1606-0.1444j],\n",
      "        [ 0.3798-0.2706j],\n",
      "        [-0.2546-0.2701j]])\n"
     ]
    }
   ],
   "source": [
    "state1 =  random_state(2).density_matrix\n",
    "#↑生成一个 2 量子比特的随机量子态（默认情况下可能是混合态 \n",
    "# 或者纯态），并将其转换为密度矩阵形式。\n",
    "print(f\"The first quantum state is:\\n {state1}\\n\")\n",
    "state2 = random_state(2, rank=1).ket\n",
    "#.ket：获取该纯态的态矢量（ket）表示。态矢量是描述纯态的简洁方式\n",
    "\n",
    "print(f\"The second quantum state is:\\n {state2}\")"
   ]
  },
  {
   "cell_type": "markdown",
   "id": "f520b3e8",
   "metadata": {},
   "source": [
    "态保真度\n",
    "$F(ρ,σ)=tr( \\sqrt{\\sqrt{ρ}σ \\sqrt{ρ}})^2$\n",
    "如果其中一个是纯态 $\\sigma = |\\psi\\rangle\\langle\\psi|$ ，则简化为 $F(\\rho,|\\psi\\rangle\\langle\\psi|)=\\text{tr}(\\rho|\\psi\\rangle\\langle\\psi|)= \\langle\\psi|\\rho|\\psi\\rangle$   \n",
    "\n",
    "Schatten p- 范数\n",
    "$\\|A\\|_p = (\\text{tr}(|A|^p))^{\\frac{1}{p}}$"
   ]
  },
  {
   "cell_type": "code",
   "execution_count": null,
   "id": "0201eb38",
   "metadata": {},
   "outputs": [
    {
     "name": "stdout",
     "output_type": "stream",
     "text": [
      "The von Neumann entropy between state 1 is:\n",
      "0.6949619944161356\n",
      "torch.float64\n",
      "The trace distance between state 1 and state 2  is:\n",
      "0.9689533139196945\n",
      "The state fidelity between state 1 and state 2 is:\n",
      "0.22642644586824417\n",
      "The purity of state 1 is:\n",
      "0.6960509823055496\n",
      "The relative entropy of state 1 and state 2 is:\n",
      "50.772247898589676\n",
      "The Schatten 2-norm of state 1 is:\n",
      "0.8342966992057137\n"
     ]
    }
   ],
   "source": [
    "#冯・诺依曼熵\n",
    "'''S(ρ)=−tr(ρ log 2 ρ)衡量量子态的不确定性/混合程度\n",
    "混合态的熵大于 0，混合程度越高\n",
    "（越接近最大混合态I/d)，d是希尔伯特空间维度 ），熵越大。\n",
    "'''\n",
    "entropy = von_neumann_entropy(state1)\n",
    "print(f\"The von Neumann entropy between state 1 is:\\n{entropy}\")\n",
    "\n",
    "\n",
    "#距离迹\n",
    "'''对于两个量子态的密度矩阵\n",
    "D(ρ,σ)= 1/2​ ∥ρ−σ∥_1  \n",
    "\n",
    "state1是混合态密度矩阵，state2若是纯态会先转成密度矩阵\n",
    "\\(\\sigma = |\\psi\\rangle\\langle\\psi|\\)，\n",
    "然后计算二者差异\n",
    "\n",
    "衡量两个量子态 “可区分性” 的指标 。\n",
    "取值范围在[0, 1]，当D = 0时，两个态完全相同；\n",
    "当D = 1时，两个态完全可区分（比如正交的纯态 ）\n",
    "'''\n",
    "traceDistance = trace_distance(state1, state2)\n",
    "print(traceDistance.dtype)\n",
    "print(f\"The trace distance between state 1 and state 2  is:\\n{traceDistance}\")\n",
    "\n",
    "\n",
    "#态保真度\n",
    "'''\n",
    "衡量两个量子态 “相似程度” 的指标 。\n",
    "取值范围在[0, 1]，F = 1表示两个态完全相同（比如同一个纯态 ）；\n",
    "F = 0表示完全正交、无重叠。\n",
    "'''\n",
    "fidelity = state_fidelity(state1, state2)\n",
    "print(f\"The state fidelity between state 1 and state 2 is:\\n{fidelity}\")\n",
    "\n",
    "\n",
    "#态的纯度\n",
    "'''P(ρ)=tr(ρ^2)\n",
    "也是衡量量子态混合程度的指标  \n",
    "混合态的纯度在(0, 1)之间，\n",
    "混合程度越高（越接近最大混合态 ），纯度越接近1/d\n",
    "纯态的纯度为1，混合态的纯度小于1\n",
    "'''\n",
    "purity_state = purity(state1)\n",
    "print(f\"The purity of state 1 is:\\n{purity_state}\")\n",
    "\n",
    "\n",
    "\n",
    "#相对熵\n",
    "'''\n",
    "于两个量子态的密度矩阵ρ（称为 “被比较态” ）和σ（称为 “参考态” ），\n",
    "量子相对熵定义为S(ρ||σ)=tr(ρ log ρ) - tr(ρ log σ)  \n",
    "衡量两个量子态之间 “信息差异” 的指标 ，\n",
    "可理解为从σ到ρ所需的 “信息增益”\n",
    "'''\n",
    "r_entropy = relative_entropy(state1, state2)\n",
    "print(f\"The relative entropy of state 1 and state 2 is:\\n{r_entropy}\")\n",
    "\n",
    "\n",
    "# Schatten p-范数\n",
    "'''\n",
    "是矩阵范数的一种推广，\n",
    "用于衡量矩阵 “大小” 或 “能量” 在p阶意义下的度量 。\n",
    "'''\n",
    "p = 2\n",
    "pnorm = p_norm(state1, p)\n",
    "print(f\"The Schatten {p}-norm of state 1 is:\\n{pnorm}\")"
   ]
  },
  {
   "cell_type": "markdown",
   "id": "139a6f68",
   "metadata": {},
   "source": [
    "验证矩阵 / 量子态的合法性"
   ]
  },
  {
   "cell_type": "code",
   "execution_count": 9,
   "id": "aa5784f7",
   "metadata": {},
   "outputs": [
    {
     "name": "stdout",
     "output_type": "stream",
     "text": [
      "The matrix is a positive matrix: False\n",
      "The state 1 is a PPT state: False\n",
      "The matrix is a unitary matrix: True\n"
     ]
    }
   ],
   "source": [
    "#检验半正定\n",
    "is_positive(A)\n",
    "print(f\"The matrix is a positive matrix: {is_positive(A)}\")\n",
    "\n",
    "#检验Positive Partial Transpose\n",
    "#PPT 是判断两体量子态 “可分离性（非纠缠）” 的充分条件\n",
    "# （对某些态是必要条件 ）。若返回 False，态可能是纠缠的；\n",
    "# 若返回 True，态一定是可分离的（非纠缠 ）。\n",
    "is_ppt(state1)\n",
    "print(f\"The state 1 is a PPT state: {is_ppt(state1)}\")\n",
    "\n",
    "#检验Unitary\n",
    "is_unitary(A)\n",
    "print(f\"The matrix is a unitary matrix: {is_unitary(A)}\")"
   ]
  },
  {
   "cell_type": "markdown",
   "id": "fab5d32f",
   "metadata": {},
   "source": [
    "三种输入格式  \n",
    "PyTorch Tensor：深度学习框架常用格式，适合 GPU 加速    \n",
    "NumPy ndarray：科学计算常用格式，简单易用   \n",
    "State 对象：QuAIRKit 自定义的量子态对象，包含额外元数据（如系统维度、批次信息 ）  "
   ]
  },
  {
   "cell_type": "code",
   "execution_count": null,
   "id": "274013e2",
   "metadata": {},
   "outputs": [
    {
     "name": "stdout",
     "output_type": "stream",
     "text": [
      "State fidelity dtype (torch.tensor): <class 'torch.Tensor'>\n",
      "State fidelity dtype (numpy.ndarray): <class 'numpy.ndarray'>\n",
      "State fidelity dtype (State): <class 'torch.Tensor'>\n"
     ]
    }
   ],
   "source": [
    "# torch.tensor\n",
    "print(f\"State fidelity dtype (torch.tensor): {type(state_fidelity(state1, state2))}\")\n",
    "\n",
    "# numpy.ndarray\n",
    "state1_num = state1.numpy()\n",
    "state2_num = state2.numpy()\n",
    "print(f\"State fidelity dtype (numpy.ndarray): {type(state_fidelity(state1_num, state2_num))}\")\n",
    "\n",
    "# State\n",
    "state1_sta = to_state(state1)\n",
    "state2_sta = to_state(state2)\n",
    "print(f\"State fidelity dtype (State): {type(state_fidelity(state1_sta, state2_sta))}\")"
   ]
  }
 ],
 "metadata": {
  "kernelspec": {
   "display_name": "quair",
   "language": "python",
   "name": "python3"
  },
  "language_info": {
   "codemirror_mode": {
    "name": "ipython",
    "version": 3
   },
   "file_extension": ".py",
   "mimetype": "text/x-python",
   "name": "python",
   "nbconvert_exporter": "python",
   "pygments_lexer": "ipython3",
   "version": "3.10.18"
  }
 },
 "nbformat": 4,
 "nbformat_minor": 5
}
