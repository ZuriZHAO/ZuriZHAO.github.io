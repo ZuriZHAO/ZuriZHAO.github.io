{
 "cells": [
  {
   "cell_type": "markdown",
   "id": "a54a7175",
   "metadata": {},
   "source": [
    "物理上描述系统总能量（动能+势能）  \n",
    "本征值对应系统可能的测量结果  \n",
    "厄米矩阵（共轭转置等于自身）（so本征值为实数，本征态正交归一构成一组基）"
   ]
  },
  {
   "cell_type": "code",
   "execution_count": 2,
   "id": "d7b39529",
   "metadata": {},
   "outputs": [],
   "source": [
    "import torch\n",
    "\n",
    "import quairkit as qkit\n",
    "from quairkit.core.hamiltonian import *\n",
    "from quairkit.database.hamiltonian import *\n",
    "from quairkit.database.random import *\n",
    "from quairkit.loss import *"
   ]
  },
  {
   "cell_type": "code",
   "execution_count": 3,
   "id": "ee9da06b",
   "metadata": {},
   "outputs": [
    {
     "name": "stdout",
     "output_type": "stream",
     "text": [
      "The Pauli decomposition of the Hamiltonian for the Ising model is:\n",
      " 0.5 Z0, Z1\n",
      "0.5 Z0, Z2\n",
      "0.5 Z1, Z2\n",
      "0.30000001192092896 X0\n",
      "0.30000001192092896 X1\n",
      "0.30000001192092896 X2\n",
      "----------------------------------------------------------------------------------------------------\n",
      "The Pauli decomposition of the Hamiltonian for the XY chain is:\n",
      " 0.5 X0, X1\n",
      "0.5 Y0, Y1\n",
      "0.5 X0, X2\n",
      "0.5 Y0, Y2\n",
      "0.5 X1, X2\n",
      "0.5 Y1, Y2\n",
      "----------------------------------------------------------------------------------------------------\n",
      "The Pauli decomposition of the Hamiltonian for the Heisenberg model is:\n",
      " 0.5 X0, X1\n",
      "0.5 Y0, Y1\n",
      "0.5 Z0, Z1\n",
      "0.5 X0, X2\n",
      "0.5 Y0, Y2\n",
      "0.5 Z0, Z2\n",
      "0.5 X1, X2\n",
      "0.5 Y1, Y2\n",
      "0.5 Z1, Z2\n",
      "----------------------------------------------------------------------------------------------------\n",
      "The Pauli decomposition of the random Hamiltonian is:\n",
      " -0.5870752359092613 Y0, X2\n",
      "-0.891537442403006 Y0\n",
      "----------------------------------------------------------------------------------------------------\n"
     ]
    }
   ],
   "source": [
    "num_qubits = 3  # initial setting with 3 qubits\n",
    "split_line = '\\n' + '-' * 100 + '\\n'  # a line of '-' for better readability\n",
    "\n",
    "gamma = torch.ones(num_qubits, num_qubits) * 0.5\n",
    "beta = torch.ones(num_qubits) * 0.3\n",
    "H = ising_hamiltonian(gamma, beta)\n",
    "print(\"The Pauli decomposition of the Hamiltonian for the Ising model is:\\n\", H, end=split_line)\n",
    "\n",
    "gamma = torch.ones(2, num_qubits, num_qubits) * 0.5\n",
    "H = xy_hamiltonian(gamma)\n",
    "print(\"The Pauli decomposition of the Hamiltonian for the XY chain is:\\n\", H, end=split_line)\n",
    "\n",
    "gamma = torch.ones(3, num_qubits, num_qubits) * 0.5\n",
    "H = heisenberg_hamiltonian(gamma)\n",
    "print(\"The Pauli decomposition of the Hamiltonian for the Heisenberg model is:\\n\", H, end=split_line)\n",
    "\n",
    "H = random_hamiltonian_generator(num_qubits)\n",
    "print(\"The Pauli decomposition of the random Hamiltonian is:\\n\", H, end=split_line)\n"
   ]
  },
  {
   "cell_type": "code",
   "execution_count": 4,
   "id": "a2303a31",
   "metadata": {},
   "outputs": [
    {
     "name": "stdout",
     "output_type": "stream",
     "text": [
      "For given Hamiltonian coefficients, the coresponding Hamiltonian class is:\n",
      " 0.1 X0, Z1\n",
      "0.3 Z1\n",
      "0.5 Z2\n"
     ]
    }
   ],
   "source": [
    "h_list = [[0.1, \"X0,Z1\"], [0.3, \"Z1\"], [0.5, \"Z2\"]]\n",
    "\n",
    "print(\n",
    "    \"For given Hamiltonian coefficients, \"\n",
    "    \"the coresponding Hamiltonian class is:\\n\",\n",
    "    Hamiltonian(h_list),\n",
    ")"
   ]
  },
  {
   "cell_type": "code",
   "execution_count": null,
   "id": "bda582ca",
   "metadata": {},
   "outputs": [
    {
     "name": "stdout",
     "output_type": "stream",
     "text": [
      "Expection value of the Hamiltonian: tensor(-0.1891)\n",
      "----------------------------------------------------------------------------------------------------\n",
      "Expection value of the Hamiltonian: tensor(-0.1891)\n"
     ]
    }
   ],
   "source": [
    "rho = random_state(num_qubits)\n",
    "print('Expection value of the Hamiltonian:', rho.expec_val(H), end=split_line)\n",
    "#量子态ρ在哈密顿量H下的期望值 ⟨H⟩=Tr(ρH)=\\sum p <φ|H|φ》（如以概率 p 处于 |φ⟩ ）\n",
    "\n",
    "exp_H = ExpecVal(H)\n",
    "print('Expection value of the Hamiltonian:', exp_H(rho))"
   ]
  },
  {
   "cell_type": "code",
   "execution_count": 6,
   "id": "9f09a338",
   "metadata": {},
   "outputs": [
    {
     "name": "stdout",
     "output_type": "stream",
     "text": [
      "For 1000 random 3-qubit states, a set of Expection value of a given Hamiltonian:\n",
      " tensor([-0.0719,  0.4139, -0.0500,  0.2628,  0.2197, -0.1067,  0.3284, -0.2297,\n",
      "        -0.3028, -0.2137])\n",
      "----------------------------------------------------------------------------------------------------\n",
      "For 1000 random 3-qubit states, a set of Expection value of a given Hamiltonian:\n",
      " tensor([-0.0719,  0.4139, -0.0500,  0.2628,  0.2197, -0.1067,  0.3284, -0.2297,\n",
      "        -0.3028, -0.2137])\n"
     ]
    }
   ],
   "source": [
    "rho = random_state(num_qubits, size=10)  # 1000 random 3-qubit states\n",
    "\n",
    "print(\n",
    "    \"For 1000 random 3-qubit states, \"\n",
    "    \"a set of Expection value of a given Hamiltonian:\\n\",\n",
    "    rho.expec_val(H),\n",
    "    end=split_line,\n",
    ")\n",
    "# this is equivalent to below code\n",
    "# list_exp_H = []\n",
    "# for i in range(len(rho)):\n",
    "#     list_exp_H.append(rho[i].expec_val(H))\n",
    "# list_exp_H = torch.stack(list_exp_H)\n",
    "\n",
    "exp_H = ExpecVal(H)\n",
    "print(\n",
    "    \"For 1000 random 3-qubit states, \"\n",
    "    \"a set of Expection value of a given Hamiltonian:\\n\",\n",
    "    exp_H(rho),\n",
    ")\n",
    "# this is equivalent to below code\n",
    "# exp_H = ExpecVal(H)\n",
    "# list_exp_H = []\n",
    "# for i in range(len(rho)):\n",
    "#     list_exp_H.append(exp_H(rho[i]))\n",
    "# list_exp_H = torch.stack(list_exp_H)"
   ]
  },
  {
   "cell_type": "markdown",
   "id": "bd9f8680",
   "metadata": {},
   "source": [
    "哈密顿量 H 是一个厄米算子（Hermitian operator）（满足 $H^\\dagger = H$共轭转置），其核心物理意义是描述量子系统的总能量。  \n",
    "对于孤立系统，时间演化算子 $U(t)$ 由哈密顿量 H 决定，满足：$U(t) = e^{-i H t / \\hbar}$  \n",
    "n 个量子比特的态空间是 $2^n$ 维。    \n",
    "而哈密顿量作为描述系统能量的算子，其矩阵形式的维度与态空间一致：n 个量子比特的哈密顿量是 $2^n \\times 2^n$ 的矩阵\n"
   ]
  },
  {
   "cell_type": "code",
   "execution_count": null,
   "id": "67311b73",
   "metadata": {},
   "outputs": [
    {
     "name": "stdout",
     "output_type": "stream",
     "text": [
      "The Pauli decomposition of the random Hamiltonian is:\n",
      " 0.4439691692044192 Y0\n",
      "0.9188369647731893 Z0\n",
      "0.034091717729002324 Y2\n",
      "----------------------------------------------------------------------------------------------------\n",
      "Number of terms: 3\n",
      "----------------------------------------------------------------------------------------------------\n",
      "The Pauli string corresponding to the Hamiltonian:\n",
      " [[0.4439691692044192, 'Y0'], [0.9188369647731893, 'Z0'], [0.034091717729002324, 'Y2']]\n",
      "----------------------------------------------------------------------------------------------------\n",
      "The coefficients of the terms in the Hamiltonian:\n",
      " [0.4439691692044192, 0.9188369647731893, 0.034091717729002324]\n",
      "----------------------------------------------------------------------------------------------------\n",
      "The matrix form of the Hamiltonian:\n",
      " tensor([[ 0.9188+0.0000j,  0.0000-0.0341j,  0.0000+0.0000j,  0.0000+0.0000j,\n",
      "          0.0000-0.4440j,  0.0000+0.0000j,  0.0000+0.0000j,  0.0000+0.0000j],\n",
      "        [ 0.0000+0.0341j,  0.9188+0.0000j,  0.0000+0.0000j,  0.0000+0.0000j,\n",
      "          0.0000+0.0000j,  0.0000-0.4440j,  0.0000+0.0000j,  0.0000+0.0000j],\n",
      "        [ 0.0000+0.0000j,  0.0000+0.0000j,  0.9188+0.0000j,  0.0000-0.0341j,\n",
      "          0.0000+0.0000j,  0.0000+0.0000j,  0.0000-0.4440j,  0.0000+0.0000j],\n",
      "        [ 0.0000+0.0000j,  0.0000+0.0000j,  0.0000+0.0341j,  0.9188+0.0000j,\n",
      "          0.0000+0.0000j,  0.0000+0.0000j,  0.0000+0.0000j,  0.0000-0.4440j],\n",
      "        [ 0.0000+0.4440j,  0.0000+0.0000j,  0.0000+0.0000j,  0.0000+0.0000j,\n",
      "         -0.9188+0.0000j,  0.0000-0.0341j,  0.0000+0.0000j,  0.0000+0.0000j],\n",
      "        [ 0.0000+0.0000j,  0.0000+0.4440j,  0.0000+0.0000j,  0.0000+0.0000j,\n",
      "          0.0000+0.0341j, -0.9188+0.0000j,  0.0000+0.0000j,  0.0000+0.0000j],\n",
      "        [ 0.0000+0.0000j,  0.0000+0.0000j,  0.0000+0.4440j,  0.0000+0.0000j,\n",
      "          0.0000+0.0000j,  0.0000+0.0000j, -0.9188+0.0000j,  0.0000-0.0341j],\n",
      "        [ 0.0000+0.0000j,  0.0000+0.0000j,  0.0000+0.0000j,  0.0000+0.4440j,\n",
      "          0.0000+0.0000j,  0.0000+0.0000j,  0.0000+0.0341j, -0.9188+0.0000j]])\n",
      "----------------------------------------------------------------------------------------------------\n",
      "The Pauli word of each term: ['YII', 'ZII', 'IIY']\n",
      "----------------------------------------------------------------------------------------------------\n",
      "Number of qubits in the Hamiltonian: 3\n",
      "----------------------------------------------------------------------------------------------------\n"
     ]
    }
   ],
   "source": [
    "H = random_hamiltonian_generator(num_qubits)\n",
    "print(\"The Pauli decomposition of the random Hamiltonian is:\\n\", H, end=split_line)\n",
    "#H输出泡利分解形式\n",
    "print('Number of terms:', H.n_terms, #总项数\n",
    "      end=split_line)\n",
    "\n",
    "print('The Pauli string corresponding to the Hamiltonian:\\n', H.pauli_str, #泡利算符组合\n",
    "      end=split_line)\n",
    "\n",
    "print('The coefficients of the terms in the Hamiltonian:\\n', H.coefficients, #系数\n",
    "      end=split_line)\n",
    "\n",
    "print('The matrix form of the Hamiltonian:\\n', H.matrix, #哈密顿量的矩阵表示\n",
    "      end=split_line)\n",
    "\n",
    "print('The Pauli word of each term:', H.pauli_words,\n",
    "      #泡利算符组合的结构化表示，通常为整数或编码数组 \n",
    "      end=split_line)\n",
    "\n",
    "print('Number of qubits in the Hamiltonian:', H.n_qubits, \n",
    "      #哈密顿量所1描述的量子比特总数\n",
    "      end=split_line)"
   ]
  }
 ],
 "metadata": {
  "kernelspec": {
   "display_name": "quair",
   "language": "python",
   "name": "python3"
  },
  "language_info": {
   "codemirror_mode": {
    "name": "ipython",
    "version": 3
   },
   "file_extension": ".py",
   "mimetype": "text/x-python",
   "name": "python",
   "nbconvert_exporter": "python",
   "pygments_lexer": "ipython3",
   "version": "3.10.18"
  }
 },
 "nbformat": 4,
 "nbformat_minor": 5
}
