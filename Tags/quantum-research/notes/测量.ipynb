{
 "cells": [
  {
   "cell_type": "markdown",
   "id": "6a612e64",
   "metadata": {},
   "source": [
    "确定 M（测量算子）和 $\\vert\\psi\\rangle$（量子态）  \n",
    "每个可观测量对应一个厄米算子（Hermitian operator） \n",
    "如能量对应哈密顿量H  \n",
    "自旋z分量对应泡利算子（若要测量某个可观测量（如自旋z）,需构造对应的测量算子M"
   ]
  },
  {
   "cell_type": "code",
   "execution_count": 1,
   "id": "914651df",
   "metadata": {},
   "outputs": [],
   "source": [
    "import time\n",
    "import traceback\n",
    "\n",
    "import quairkit as qkit\n",
    "from quairkit.database import *\n",
    "from quairkit.loss import *\n",
    "from quairkit.qinfo import *\n",
    "\n",
    "qkit.set_dtype(\"complex128\")"
   ]
  },
  {
   "cell_type": "markdown",
   "id": "3b040377",
   "metadata": {},
   "source": [
    "泡利算符X[[0 1][1 0]]的本征值为±1，对应的本征态有两个(就是两个eigenvector)，投影算子是把任意量子态投影到某个特定本征态上的工具，P+会把态投影到|+>上，为$P_+ = |+\\rangle\\langle +|$（投影到 $|+\\rangle$ 的算子）和相应的-  \n",
    "投影是把任意态投影到这两个本征态上，只需要两个投影算符  "
   ]
  },
  {
   "cell_type": "markdown",
   "id": "703ddeed",
   "metadata": {},
   "source": [
    "∣00⟩=∣0⟩⊗∣0⟩=[1 0 0 0]\n",
    "任何 2-qubit 量子态都可以表示为这四个基态的线性组合（叠加态）。"
   ]
  },
  {
   "cell_type": "code",
   "execution_count": 2,
   "id": "eb67ca54",
   "metadata": {},
   "outputs": [
    {
     "name": "stdout",
     "output_type": "stream",
     "text": [
      "Projection-valued measure: \n",
      "tensor([[[ 0.5000+0.j,  0.5000+0.j],\n",
      "         [ 0.5000+0.j,  0.5000+0.j]],\n",
      "\n",
      "        [[ 0.5000+0.j, -0.5000+0.j],\n",
      "         [-0.5000+0.j,  0.5000+0.j]]])\n"
     ]
    }
   ],
   "source": [
    "pvm = pauli_str_povm(\"x\")  \n",
    "#生成与泡利 X 算符对应的 PVM 测量算子集合。\n",
    "\n",
    "print(f\"Projection-valued measure: \\n{pvm}\")"
   ]
  },
  {
   "cell_type": "markdown",
   "id": "e582f8d1",
   "metadata": {},
   "source": [
    "测量第 0 位 qubit 后，若量子态被约束到这些本征态，会呈现特定的数学特征。  \n",
    "以结果 0 的塌缩态为例（对应本征态 $|+\\rangle$），其矩阵应满足：第 0 位 qubit 的$|0\\rangle$和$|1\\rangle$分量完全对称。  \n",
    "左上角（$|00\\rangle, |01\\rangle$行 / 列）：对应第 0 位为$|0\\rangle$的子空间右下角（$|10\\rangle, |11\\rangle$行 / 列）：对应第 0 位为$|1\\rangle$的子空间  \n",
    "这两个子空间分量完全相等"
   ]
  },
  {
   "cell_type": "markdown",
   "id": "eafded39",
   "metadata": {},
   "source": [
    "将 4×4 矩阵按 “第 0 位 qubit（A）” 和 “第 1 位 qubit（B）” 的基矢拆分，得到 4 个 2×2 子矩阵：   \n",
    "[[ρ00 ρ01]  \n",
    " [ρ10 ρ11]]  \n"
   ]
  },
  {
   "cell_type": "markdown",
   "id": "e2eab0a1",
   "metadata": {},
   "source": [
    "ρ AB = ∑i,j,k,l∈{0,1}  ρ ij,kl  ∣ij⟩⟨kl∣  \n",
    "$\\rho_{ij,kl} = \\langle ij|\\rho_{AB}|kl\\rangle$是矩阵元    \n",
    "当对 B 求迹时，实际是将 “B=0” 和 “B=1” 的子空间中A 的相同分量相加  \n",
    "A=0 的分量：来自$\\rho_{00}$（B=0 时 A=0 的信息）和$\\rho_{01}$中 B=1 时 A=0 的信息  \n"
   ]
  },
  {
   "cell_type": "markdown",
   "id": "d26773e6",
   "metadata": {},
   "source": [
    "副对角线:\n",
    "它们描述的是 A 和 B 之间的 “交叉关联”，而部分迹$\\text{Tr}_B$的目的是 “消除 B 的信息，只保留 A 的独立状态”，这些交叉项会在对 B 求迹时被 “正交性” 抵消。"
   ]
  },
  {
   "cell_type": "markdown",
   "id": "82ede734",
   "metadata": {},
   "source": [
    "部分迹$\\text{Tr}_B(\\rho_{AB})$的严格定义是：$\\text{Tr}_B(\\rho_{AB}) = \\sum_{b \\in \\{0,1\\}} \\langle b|_B \\rho_{AB} |b\\rangle_B$  \n",
    "计算$\\langle 0|_B \\rho_{AB} |0\\rangle_B$时，由于 B 的正交性，只有 B=|0⟩的子空间（即$\\rho_{00}$）会保留，其他分块（$\\rho_{01},\\rho_{10},\\rho_{11}$）因包含 B=|1⟩的成分而被消去，结果为$\\rho_{00}$  \n"
   ]
  },
  {
   "cell_type": "markdown",
   "id": "0d487c4e",
   "metadata": {},
   "source": [
    "量子中，密度矩阵的分块$\\rho_{00}$对应 “A 的状态与 B=|0⟩的关联”，$\\rho_{11}$对应 “A 的状态与 B=|1⟩的关联”。对 B 求部分迹时，“相加” 本质是对 B 的所有可能状态（|0⟩和 | 1⟩）求和，得到 A 的总概率分布。"
   ]
  },
  {
   "cell_type": "markdown",
   "id": "04dae144",
   "metadata": {},
   "source": [
    "对第 1 位（B）求部分迹的数学操作是：将与第 1 位基矢相关的子矩阵按 “迹” 规则求和，即保留第 0 位的信息，对第 1 位的基矢维度求和。<就是按照主对角线规则求(因为是0 1)>"
   ]
  },
  {
   "cell_type": "markdown",
   "id": "154ca27e",
   "metadata": {},
   "source": [
    "仅测量第 0 位时，第 1 位的状态不会被直接改变，但会通过量子关联间接受到影响（体现在坍缩态的矩阵元中）。"
   ]
  },
  {
   "cell_type": "markdown",
   "id": "aa6cbda6",
   "metadata": {},
   "source": [
    "坍缩后的量子态需要完整描述两个量子比特的状态及其关联：第 0 位：状态确定（0 或 1），不再有叠加性；第 1 位：仍可能处于叠加态（如$a|0\\rangle + b|1\\rangle$），保留量子特性；两者的关联：第 1 位的状态可能依赖于第 0 位的测量结果（如量子纠缠的残余影响）"
   ]
  },
  {
   "cell_type": "code",
   "execution_count": 3,
   "id": "be9ac0c5",
   "metadata": {},
   "outputs": [
    {
     "name": "stdout",
     "output_type": "stream",
     "text": [
      "\n",
      "-----------------------------------------------------\n",
      " Backend: density_matrix\n",
      " System dimension: [2, 2]\n",
      " System sequence: [0, 1]\n",
      "[[ 0.25+0.j   -0.16+0.13j  0.14+0.09j  0.09-0.21j]\n",
      " [-0.16-0.13j  0.18+0.j   -0.02-0.14j -0.12+0.07j]\n",
      " [ 0.14-0.09j -0.02+0.14j  0.16+0.j    0.05-0.17j]\n",
      " [ 0.09+0.21j -0.12-0.07j  0.05+0.17j  0.41+0.j  ]]\n",
      "-----------------------------------------------------\n",
      "\n",
      "测量结果概率分布: tensor([0.5279, 0.4721])\n",
      "塌缩后的量子态: \n",
      "-----------------------------------------------------\n",
      " Backend: density_matrix\n",
      " System dimension: [2, 2]\n",
      " System sequence: [0, 1]\n",
      " Batch size: [2]\n",
      "\n",
      " # 0:\n",
      "[[ 0.33+0.j   -0.02-0.05j  0.33+0.j   -0.02-0.05j]\n",
      " [-0.02+0.05j  0.17+0.j   -0.02+0.05j  0.17+0.j  ]\n",
      " [ 0.33+0.j   -0.02-0.05j  0.33+0.j   -0.02-0.05j]\n",
      " [-0.02+0.05j  0.17+0.j   -0.02+0.05j  0.17+0.j  ]]\n",
      " # 1:\n",
      "[[ 0.06+0.j   -0.09+0.02j -0.06+0.j    0.09-0.02j]\n",
      " [-0.09-0.02j  0.44+0.j    0.09+0.02j -0.44+0.j  ]\n",
      " [-0.06+0.j    0.09-0.02j  0.06+0.j   -0.09+0.02j]\n",
      " [ 0.09+0.02j -0.44+0.j   -0.09-0.02j  0.44+0.j  ]]\n",
      "-----------------------------------------------------\n",
      "\n"
     ]
    }
   ],
   "source": [
    "op = Measure()  # 计算基测量，M_m = |m⟩⟨m|  \n",
    "#测量算子是计算基的投影  \n",
    "op = Measure(\"x\")  # 用泡利1X作为本征基测量 \n",
    "op = Measure(pvm)  # 用自定义PVM张量初始化  \n",
    "\n",
    "op = Measure(pvm)\n",
    "# 2-qubit就是4维  \n",
    "# ρ=∣ψ⟩⟨ψ∣ rank=2是混合态，rank=1才是纯态  \n",
    "#∣ψ⟩=∑ i,j∈{0,1} cij ∣ij⟩  (cij是概率幅)  \n",
    "\n",
    "rho = random_state(num_qubits=2, rank=2)  # 生成2-qubit随机态密度矩阵  \n",
    "prob = op(rho, qubits_idx=[0])  # 测量第0位qubit\n",
    "print(rho)\n",
    "print(\"测量结果概率分布:\", prob)  \n",
    "prob, collapsed_state = op(rho, qubits_idx=[0], keep_state=True)\n",
    "print(\"塌缩后的量子态:\", collapsed_state)\n",
    "#结果第0位量子比特可能是0也可能是1"
   ]
  },
  {
   "cell_type": "code",
   "execution_count": 4,
   "id": "7791e14d",
   "metadata": {},
   "outputs": [
    {
     "name": "stdout",
     "output_type": "stream",
     "text": [
      "The probability for obtaining outcome 1 is tensor([0.4721]), with outcome state \n",
      "-----------------------------------------------------\n",
      " Backend: density_matrix\n",
      " System dimension: [2, 2]\n",
      " System sequence: [0, 1]\n",
      "[[ 0.06+0.j   -0.09+0.02j -0.06+0.j    0.09-0.02j]\n",
      " [-0.09-0.02j  0.44+0.j    0.09+0.02j -0.44+0.j  ]\n",
      " [-0.06+0.j    0.09-0.02j  0.06+0.j   -0.09+0.02j]\n",
      " [ 0.09+0.02j -0.44+0.j   -0.09-0.02j  0.44+0.j  ]]\n",
      "-----------------------------------------------------\n",
      "\n"
     ]
    }
   ],
   "source": [
    "x = \"1\"\n",
    "prob, collapsed_state = op(\n",
    "    rho, qubits_idx=[0], keep_state=True, desired_result=x\n",
    ")  # return the second outcome\n",
    "print(\n",
    "    f\"The probability for obtaining outcome {x} is {prob}, with outcome state\",\n",
    "    collapsed_state,\n",
    ")"
   ]
  },
  {
   "cell_type": "markdown",
   "id": "32ef5991",
   "metadata": {},
   "source": [
    "↓ 可以同时获取测量结果的概率分布和对应结果的坍缩态"
   ]
  },
  {
   "cell_type": "code",
   "execution_count": 5,
   "id": "d366fe09",
   "metadata": {},
   "outputs": [
    {
     "name": "stdout",
     "output_type": "stream",
     "text": [
      "The probability distribution of outcome tensor([0.3437, 0.6563])\n",
      "The collapsed state for each outcome is \n",
      "-----------------------------------------------------\n",
      " Backend: density_matrix\n",
      " System dimension: [2]\n",
      " System sequence: [0]\n",
      " Batch size: [2]\n",
      "\n",
      " # 0:\n",
      "[[0.5+0.j 0.5+0.j]\n",
      " [0.5+0.j 0.5+0.j]]\n",
      " # 1:\n",
      "[[ 0.5+0.j -0.5+0.j]\n",
      " [-0.5+0.j  0.5+0.j]]\n",
      "-----------------------------------------------------\n",
      "\n"
     ]
    }
   ],
   "source": [
    "rho = random_state(num_qubits=1, rank=2)\n",
    "prob = rho.measure(pvm)  # same as Measure(pvm)(rho)\n",
    "print(\"The probability distribution of outcome\", prob)\n",
    "prob, collapsed_state = rho.measure(\n",
    "    pvm, keep_state=True\n",
    ")  # same as Measure(pvm)(rho, keep_state=True)\n",
    "print(\"The collapsed state for each outcome is\", collapsed_state)"
   ]
  },
  {
   "cell_type": "markdown",
   "id": "9fa7ec46",
   "metadata": {},
   "source": [
    "pvm的测量算子是投影算子，POVM 的算子 并不一定是投影算子"
   ]
  },
  {
   "cell_type": "code",
   "execution_count": 8,
   "id": "b8c897be",
   "metadata": {},
   "outputs": [
    {
     "name": "stdout",
     "output_type": "stream",
     "text": [
      "Time for measuring with pvm: 0.0010001659s\n",
      "Time for measuring with povm: 0.0000000000s\n"
     ]
    }
   ],
   "source": [
    "start_time = time.time()\n",
    "prob = rho.measure(pvm)\n",
    "print(f\"Time for measuring with pvm: {time.time() - start_time:.10f}s\")\n",
    "#使用pvm对量子态rho进行测量\n",
    "\n",
    "start_time = time.time()\n",
    "prob = rho.measure(pvm, is_povm=True)\n",
    "print(f\"Time for measuring with povm: {time.time() - start_time:.10f}s\")\n",
    "#使用povm对量子态rho进行测量\n",
    "try:\n",
    "    rho.measure(pvm, is_povm=True, \n",
    "                # keep_state=True\n",
    "                # povm无法明确获得测量后态\n",
    "                )\n",
    "except ValueError:\n",
    "    traceback.print_exc()"
   ]
  },
  {
   "cell_type": "code",
   "execution_count": null,
   "id": "8df1b2b1",
   "metadata": {},
   "outputs": [],
   "source": [
    "op = Measure([\"x\", \"y\", \"z\"]) \n",
    "## 用 Pauli 字符串初始化批量测量：x、y、z 基分别对应 1 组 PVM\n",
    "\n",
    "#手动构造pvm，效果和上面一样\n",
    "list_pvm = pauli_str_povm([\"x\", \"y\", \"z\"])  \n",
    "print(f\"The tensor shape of the measurement: {list_pvm.shape}\")\n",
    "op = Measure(list_pvm)\n"
   ]
  },
  {
   "cell_type": "code",
   "execution_count": null,
   "id": "13bae7cb",
   "metadata": {},
   "outputs": [
    {
     "name": "stdout",
     "output_type": "stream",
     "text": [
      "The measured states for the first batch is \n",
      "-----------------------------------------------------\n",
      " Backend: density_matrix\n",
      " System dimension: [2]\n",
      " System sequence: [0]\n",
      " Batch size: [2]\n",
      "\n",
      " # 0:\n",
      "[[0.5+0.j 0.5+0.j]\n",
      " [0.5+0.j 0.5+0.j]]\n",
      "-----------------------------------------------------\n",
      " with prob distribution 0.34365089664479753\n"
     ]
    }
   ],
   "source": [
    "#单量子态测量\n",
    "prob, collapsed_state = op(rho, keep_state=True)\n",
    "print(\n",
    "    \"The measured states for the first batch is\",\n",
    "    collapsed_state[0],\n",
    "    f\"with prob distribution {prob[0]}\",\n",
    ")\n",
    "#结果\n",
    "'''\n",
    "用密度矩阵表示的量子态\n",
    "单量子比特系统维度为2\n",
    "测量的是第0号量子比特\n",
    "单个量子态测量后，可能的坍缩结果数量\n",
    "'''"
   ]
  },
  {
   "cell_type": "code",
   "execution_count": 16,
   "id": "dd4bd3fa",
   "metadata": {},
   "outputs": [
    {
     "name": "stdout",
     "output_type": "stream",
     "text": [
      "The measured states for the first batch is \n",
      "-----------------------------------------------------\n",
      " Backend: state_vector\n",
      " System dimension: [2]\n",
      " System sequence: [0]\n",
      " Batch size: [2]\n",
      "\n",
      " # 0:\n",
      "[0.53+0.47j 0.53+0.47j]\n",
      " # 1:\n",
      "[ 0.69+0.17j -0.69-0.17j]\n",
      "-----------------------------------------------------\n",
      " with prob distribution tensor([0.2534, 0.7466])\n"
     ]
    }
   ],
   "source": [
    "# 三个量子态+一组pvm(三个)\n",
    "#每个量子态测量后都得到一组pvm的概率分布\n",
    "batch_size = 3\n",
    "\n",
    "list_rho = random_state(num_qubits=1, #生成的量子态只有一个\n",
    "                        size=batch_size)\n",
    "#一共生成三个独立的量子态，每个都是单1qubit系统\n",
    "\n",
    "prob, collapsed_state = op(list_rho, keep_state=True)\n",
    "print(\n",
    "    \"The measured states for the first batch is\",\n",
    "    collapsed_state[0],\n",
    "    f\"with prob distribution {prob[0]}\",\n",
    "    #测量了三个量子态，但是只输出了第一个的结果\n",
    ")"
   ]
  },
  {
   "cell_type": "markdown",
   "id": "a83414e2",
   "metadata": {},
   "source": [
    "Sampled measurements量子测量结果采样"
   ]
  },
  {
   "cell_type": "code",
   "execution_count": 18,
   "id": "1be762f8",
   "metadata": {},
   "outputs": [
    {
     "name": "stdout",
     "output_type": "stream",
     "text": [
      "3 probability distributions are\n",
      " tensor([[0.2534, 0.7466],\n",
      "        [0.6040, 0.3960],\n",
      "        [0.8568, 0.1432]])\n",
      "\n",
      "The outcomes of quantum measurements:\n",
      "{'0': tensor([228, 610, 866]), '1': tensor([796, 414, 158])}\n",
      "\n",
      "The outcomes of quantum measurements with the decimal system of dictionary system:\n",
      " {'0': tensor([263, 608, 898]), '1': tensor([761, 416, 126])}\n",
      "\n",
      "The outcomes of quantum measurements in proportion:\n",
      " {'0': tensor([0.2578, 0.5986, 0.8818]), '1': tensor([0.7422, 0.4014, 0.1182])}\n"
     ]
    }
   ],
   "source": [
    "batch_size = 3\n",
    "print(f\"{batch_size} probability distributions are\\n\", prob)\n",
    "\n",
    "print(f\"\\nThe outcomes of quantum measurements:\\n{prob_sample(prob)}\")\n",
    "print(\n",
    "    f\"\\nThe outcomes of quantum measurements with the decimal system of dictionary system:\\n\",\n",
    "    prob_sample(prob, binary=False),\n",
    ")\n",
    "print(\n",
    "    f\"\\nThe outcomes of quantum measurements in proportion:\\n\",\n",
    "    prob_sample(prob, proportional=True),\n",
    ")\n",
    "# prob_sample默认采样次数（即shots）通常是1024  \n",
    "#是基于概率分布进行随机采样，每次调用会生成不同的随机数决定采样结果，\n",
    "# 有理论值波动\n",
    "#如果要固定，需要固定随机数生成的种子"
   ]
  },
  {
   "cell_type": "code",
   "execution_count": 19,
   "id": "534c1ec7",
   "metadata": {},
   "outputs": [
    {
     "name": "stdout",
     "output_type": "stream",
     "text": [
      "\n",
      "---------VERSION---------\n",
      "quairkit: 0.4.0\n",
      "torch: 2.7.1+cpu\n",
      "numpy: 1.26.4\n",
      "scipy: 1.15.3\n",
      "matplotlib: 3.10.3\n",
      "---------SYSTEM---------\n",
      "Python version: 3.10.18\n",
      "OS: Windows\n",
      "OS version: 10.0.22000\n",
      "---------DEVICE---------\n",
      "CPU: Intel64 Family 6 Model 154 Stepping 3, GenuineIntel\n"
     ]
    }
   ],
   "source": [
    "qkit.print_info()"
   ]
  }
 ],
 "metadata": {
  "kernelspec": {
   "display_name": "quair",
   "language": "python",
   "name": "python3"
  },
  "language_info": {
   "codemirror_mode": {
    "name": "ipython",
    "version": 3
   },
   "file_extension": ".py",
   "mimetype": "text/x-python",
   "name": "python",
   "nbconvert_exporter": "python",
   "pygments_lexer": "ipython3",
   "version": "3.10.18"
  }
 },
 "nbformat": 4,
 "nbformat_minor": 5
}
